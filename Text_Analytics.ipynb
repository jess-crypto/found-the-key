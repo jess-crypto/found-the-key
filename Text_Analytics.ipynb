{
  "nbformat": 4,
  "nbformat_minor": 0,
  "metadata": {
    "colab": {
      "provenance": [],
      "authorship_tag": "ABX9TyNwfbgWXhAo52snQwcQtR+3",
      "include_colab_link": true
    },
    "kernelspec": {
      "name": "python3",
      "display_name": "Python 3"
    },
    "language_info": {
      "name": "python"
    }
  },
  "cells": [
    {
      "cell_type": "markdown",
      "metadata": {
        "id": "view-in-github",
        "colab_type": "text"
      },
      "source": [
        "<a href=\"https://colab.research.google.com/github/jess-crypto/found-the-key/blob/master/Text_Analytics.ipynb\" target=\"_parent\"><img src=\"https://colab.research.google.com/assets/colab-badge.svg\" alt=\"Open In Colab\"/></a>"
      ]
    },
    {
      "cell_type": "markdown",
      "source": [
        "Instalação das bibliotecas de NLP"
      ],
      "metadata": {
        "id": "ZKG2_vodChFN"
      }
    },
    {
      "cell_type": "markdown",
      "source": [
        "Usaremos a base disponibilizada no Kaggle para executar as principais tarefas de Text Analytics\n",
        "Iremos nos concentrar nos textos publicados na seção de Turismo"
      ],
      "metadata": {
        "id": "hJ4njo29FuN0"
      }
    },
    {
      "cell_type": "code",
      "source": [
        "#!pip install spacy pyLDAvis"
      ],
      "metadata": {
        "id": "gtGEKmUbCl87"
      },
      "execution_count": 1,
      "outputs": []
    },
    {
      "cell_type": "markdown",
      "source": [
        "Baixando a estrutura de dados para a máquina realizar interpretações de textos em Português"
      ],
      "metadata": {
        "id": "OK9jY33wDKiy"
      }
    },
    {
      "cell_type": "code",
      "source": [
        "!python -m spacy download pt_core_news_sm"
      ],
      "metadata": {
        "colab": {
          "base_uri": "https://localhost:8080/"
        },
        "id": "RKF9rrB3DFM-",
        "outputId": "4f9b8cf0-4929-42e7-c961-2ff399332f4d"
      },
      "execution_count": 2,
      "outputs": [
        {
          "output_type": "stream",
          "name": "stdout",
          "text": [
            "/usr/local/lib/python3.8/dist-packages/torch/cuda/__init__.py:497: UserWarning: Can't initialize NVML\n",
            "  warnings.warn(\"Can't initialize NVML\")\n",
            "2023-02-27 17:23:38.366622: I tensorflow/core/platform/cpu_feature_guard.cc:193] This TensorFlow binary is optimized with oneAPI Deep Neural Network Library (oneDNN) to use the following CPU instructions in performance-critical operations:  AVX2 FMA\n",
            "To enable them in other operations, rebuild TensorFlow with the appropriate compiler flags.\n",
            "2023-02-27 17:23:39.565589: W tensorflow/compiler/xla/stream_executor/platform/default/dso_loader.cc:64] Could not load dynamic library 'libnvinfer.so.7'; dlerror: libnvinfer.so.7: cannot open shared object file: No such file or directory; LD_LIBRARY_PATH: /usr/local/nvidia/lib:/usr/local/nvidia/lib64\n",
            "2023-02-27 17:23:39.565760: W tensorflow/compiler/xla/stream_executor/platform/default/dso_loader.cc:64] Could not load dynamic library 'libnvinfer_plugin.so.7'; dlerror: libnvinfer_plugin.so.7: cannot open shared object file: No such file or directory; LD_LIBRARY_PATH: /usr/local/nvidia/lib:/usr/local/nvidia/lib64\n",
            "2023-02-27 17:23:39.565788: W tensorflow/compiler/tf2tensorrt/utils/py_utils.cc:38] TF-TRT Warning: Cannot dlopen some TensorRT libraries. If you would like to use Nvidia GPU with TensorRT, please make sure the missing libraries mentioned above are installed properly.\n",
            "2023-02-27 17:23:42.066452: E tensorflow/compiler/xla/stream_executor/cuda/cuda_driver.cc:267] failed call to cuInit: CUDA_ERROR_NO_DEVICE: no CUDA-capable device is detected\n",
            "Looking in indexes: https://pypi.org/simple, https://us-python.pkg.dev/colab-wheels/public/simple/\n",
            "Collecting pt-core-news-sm==3.4.0\n",
            "  Downloading https://github.com/explosion/spacy-models/releases/download/pt_core_news_sm-3.4.0/pt_core_news_sm-3.4.0-py3-none-any.whl (13.0 MB)\n",
            "\u001b[2K     \u001b[90m━━━━━━━━━━━━━━━━━━━━━━━━━━━━━━━━━━━━━━━━\u001b[0m \u001b[32m13.0/13.0 MB\u001b[0m \u001b[31m66.6 MB/s\u001b[0m eta \u001b[36m0:00:00\u001b[0m\n",
            "\u001b[?25hRequirement already satisfied: spacy<3.5.0,>=3.4.0 in /usr/local/lib/python3.8/dist-packages (from pt-core-news-sm==3.4.0) (3.4.4)\n",
            "Requirement already satisfied: packaging>=20.0 in /usr/local/lib/python3.8/dist-packages (from spacy<3.5.0,>=3.4.0->pt-core-news-sm==3.4.0) (23.0)\n",
            "Requirement already satisfied: smart-open<7.0.0,>=5.2.1 in /usr/local/lib/python3.8/dist-packages (from spacy<3.5.0,>=3.4.0->pt-core-news-sm==3.4.0) (6.3.0)\n",
            "Requirement already satisfied: spacy-legacy<3.1.0,>=3.0.10 in /usr/local/lib/python3.8/dist-packages (from spacy<3.5.0,>=3.4.0->pt-core-news-sm==3.4.0) (3.0.12)\n",
            "Requirement already satisfied: pydantic!=1.8,!=1.8.1,<1.11.0,>=1.7.4 in /usr/local/lib/python3.8/dist-packages (from spacy<3.5.0,>=3.4.0->pt-core-news-sm==3.4.0) (1.10.5)\n",
            "Requirement already satisfied: requests<3.0.0,>=2.13.0 in /usr/local/lib/python3.8/dist-packages (from spacy<3.5.0,>=3.4.0->pt-core-news-sm==3.4.0) (2.25.1)\n",
            "Requirement already satisfied: spacy-loggers<2.0.0,>=1.0.0 in /usr/local/lib/python3.8/dist-packages (from spacy<3.5.0,>=3.4.0->pt-core-news-sm==3.4.0) (1.0.4)\n",
            "Requirement already satisfied: numpy>=1.15.0 in /usr/local/lib/python3.8/dist-packages (from spacy<3.5.0,>=3.4.0->pt-core-news-sm==3.4.0) (1.22.4)\n",
            "Requirement already satisfied: langcodes<4.0.0,>=3.2.0 in /usr/local/lib/python3.8/dist-packages (from spacy<3.5.0,>=3.4.0->pt-core-news-sm==3.4.0) (3.3.0)\n",
            "Requirement already satisfied: preshed<3.1.0,>=3.0.2 in /usr/local/lib/python3.8/dist-packages (from spacy<3.5.0,>=3.4.0->pt-core-news-sm==3.4.0) (3.0.8)\n",
            "Requirement already satisfied: srsly<3.0.0,>=2.4.3 in /usr/local/lib/python3.8/dist-packages (from spacy<3.5.0,>=3.4.0->pt-core-news-sm==3.4.0) (2.4.5)\n",
            "Requirement already satisfied: cymem<2.1.0,>=2.0.2 in /usr/local/lib/python3.8/dist-packages (from spacy<3.5.0,>=3.4.0->pt-core-news-sm==3.4.0) (2.0.7)\n",
            "Requirement already satisfied: catalogue<2.1.0,>=2.0.6 in /usr/local/lib/python3.8/dist-packages (from spacy<3.5.0,>=3.4.0->pt-core-news-sm==3.4.0) (2.0.8)\n",
            "Requirement already satisfied: pathy>=0.3.5 in /usr/local/lib/python3.8/dist-packages (from spacy<3.5.0,>=3.4.0->pt-core-news-sm==3.4.0) (0.10.1)\n",
            "Requirement already satisfied: tqdm<5.0.0,>=4.38.0 in /usr/local/lib/python3.8/dist-packages (from spacy<3.5.0,>=3.4.0->pt-core-news-sm==3.4.0) (4.64.1)\n",
            "Requirement already satisfied: jinja2 in /usr/local/lib/python3.8/dist-packages (from spacy<3.5.0,>=3.4.0->pt-core-news-sm==3.4.0) (2.11.3)\n",
            "Requirement already satisfied: murmurhash<1.1.0,>=0.28.0 in /usr/local/lib/python3.8/dist-packages (from spacy<3.5.0,>=3.4.0->pt-core-news-sm==3.4.0) (1.0.9)\n",
            "Requirement already satisfied: setuptools in /usr/local/lib/python3.8/dist-packages (from spacy<3.5.0,>=3.4.0->pt-core-news-sm==3.4.0) (57.4.0)\n",
            "Requirement already satisfied: wasabi<1.1.0,>=0.9.1 in /usr/local/lib/python3.8/dist-packages (from spacy<3.5.0,>=3.4.0->pt-core-news-sm==3.4.0) (0.10.1)\n",
            "Requirement already satisfied: typer<0.8.0,>=0.3.0 in /usr/local/lib/python3.8/dist-packages (from spacy<3.5.0,>=3.4.0->pt-core-news-sm==3.4.0) (0.7.0)\n",
            "Requirement already satisfied: thinc<8.2.0,>=8.1.0 in /usr/local/lib/python3.8/dist-packages (from spacy<3.5.0,>=3.4.0->pt-core-news-sm==3.4.0) (8.1.7)\n",
            "Requirement already satisfied: typing-extensions>=4.2.0 in /usr/local/lib/python3.8/dist-packages (from pydantic!=1.8,!=1.8.1,<1.11.0,>=1.7.4->spacy<3.5.0,>=3.4.0->pt-core-news-sm==3.4.0) (4.5.0)\n",
            "Requirement already satisfied: chardet<5,>=3.0.2 in /usr/local/lib/python3.8/dist-packages (from requests<3.0.0,>=2.13.0->spacy<3.5.0,>=3.4.0->pt-core-news-sm==3.4.0) (4.0.0)\n",
            "Requirement already satisfied: idna<3,>=2.5 in /usr/local/lib/python3.8/dist-packages (from requests<3.0.0,>=2.13.0->spacy<3.5.0,>=3.4.0->pt-core-news-sm==3.4.0) (2.10)\n",
            "Requirement already satisfied: urllib3<1.27,>=1.21.1 in /usr/local/lib/python3.8/dist-packages (from requests<3.0.0,>=2.13.0->spacy<3.5.0,>=3.4.0->pt-core-news-sm==3.4.0) (1.24.3)\n",
            "Requirement already satisfied: certifi>=2017.4.17 in /usr/local/lib/python3.8/dist-packages (from requests<3.0.0,>=2.13.0->spacy<3.5.0,>=3.4.0->pt-core-news-sm==3.4.0) (2022.12.7)\n",
            "Requirement already satisfied: blis<0.8.0,>=0.7.8 in /usr/local/lib/python3.8/dist-packages (from thinc<8.2.0,>=8.1.0->spacy<3.5.0,>=3.4.0->pt-core-news-sm==3.4.0) (0.7.9)\n",
            "Requirement already satisfied: confection<1.0.0,>=0.0.1 in /usr/local/lib/python3.8/dist-packages (from thinc<8.2.0,>=8.1.0->spacy<3.5.0,>=3.4.0->pt-core-news-sm==3.4.0) (0.0.4)\n",
            "Requirement already satisfied: click<9.0.0,>=7.1.1 in /usr/local/lib/python3.8/dist-packages (from typer<0.8.0,>=0.3.0->spacy<3.5.0,>=3.4.0->pt-core-news-sm==3.4.0) (7.1.2)\n",
            "Requirement already satisfied: MarkupSafe>=0.23 in /usr/local/lib/python3.8/dist-packages (from jinja2->spacy<3.5.0,>=3.4.0->pt-core-news-sm==3.4.0) (2.0.1)\n",
            "Installing collected packages: pt-core-news-sm\n",
            "Successfully installed pt-core-news-sm-3.4.0\n",
            "\u001b[38;5;2m✔ Download and installation successful\u001b[0m\n",
            "You can now load the package via spacy.load('pt_core_news_sm')\n"
          ]
        }
      ]
    },
    {
      "cell_type": "code",
      "source": [
        "import pandas as pd\n",
        "import matplotlib.pyplot as plt\n",
        "import spacy\n",
        "import nltk\n",
        "import re\n",
        "from nltk import word_tokenize\n",
        "from nltk.util import ngrams\n",
        "from sklearn.decomposition import LatentDirichletAllocation\n",
        "from sklearn.feature_extraction.text import CountVectorizer\n",
        "from collections import Counter\n",
        "\n",
        "import warnings\n",
        "warnings.filterwarnings('ignore')"
      ],
      "metadata": {
        "id": "bLUUkNGgDPVj"
      },
      "execution_count": 106,
      "outputs": []
    },
    {
      "cell_type": "code",
      "source": [
        "nltk.download('punkt')"
      ],
      "metadata": {
        "colab": {
          "base_uri": "https://localhost:8080/"
        },
        "id": "bE7fZxBvEUEA",
        "outputId": "fadfd8ec-be0e-4b4d-8c25-b2ccf3f6a64e"
      },
      "execution_count": 4,
      "outputs": [
        {
          "output_type": "stream",
          "name": "stderr",
          "text": [
            "[nltk_data] Downloading package punkt to /root/nltk_data...\n",
            "[nltk_data]   Unzipping tokenizers/punkt.zip.\n"
          ]
        },
        {
          "output_type": "execute_result",
          "data": {
            "text/plain": [
              "True"
            ]
          },
          "metadata": {},
          "execution_count": 4
        }
      ]
    },
    {
      "cell_type": "markdown",
      "source": [
        "Conjunto de dados"
      ],
      "metadata": {
        "id": "YRb8Jk3qEZ5f"
      }
    },
    {
      "cell_type": "code",
      "source": [
        "news = pd.read_csv('https://www.dropbox.com/s/rvwjw8miow6jswy/articles.csv?dl=1')"
      ],
      "metadata": {
        "id": "kD1VZi2GEbr6"
      },
      "execution_count": 5,
      "outputs": []
    },
    {
      "cell_type": "code",
      "source": [
        "news.head()"
      ],
      "metadata": {
        "colab": {
          "base_uri": "https://localhost:8080/",
          "height": 337
        },
        "id": "rdU2t1C_FLKy",
        "outputId": "ca7cd466-ffcc-48b7-dc23-89500f69510e"
      },
      "execution_count": 6,
      "outputs": [
        {
          "output_type": "execute_result",
          "data": {
            "text/plain": [
              "                                               title  \\\n",
              "0  Lula diz que está 'lascado', mas que ainda tem...   \n",
              "1  'Decidi ser escrava das mulheres que sofrem', ...   \n",
              "2  Três reportagens da Folha ganham Prêmio Petrob...   \n",
              "3  Filme 'Star Wars: Os Últimos Jedi' ganha trail...   \n",
              "4  CBSS inicia acordos com fintechs e quer 30% do...   \n",
              "\n",
              "                                                text        date   category  \\\n",
              "0  Com a possibilidade de uma condenação impedir ...  2017-09-10      poder   \n",
              "1  Para Oumou Sangaré, cantora e ativista malines...  2017-09-10  ilustrada   \n",
              "2  Três reportagens da Folha foram vencedoras do ...  2017-09-10      poder   \n",
              "3  A Disney divulgou na noite desta segunda-feira...  2017-09-10  ilustrada   \n",
              "4  O CBSS, banco da holding Elopar dos sócios Bra...  2017-09-10    mercado   \n",
              "\n",
              "  subcategory                                               link  \n",
              "0         NaN  http://www1.folha.uol.com.br/poder/2017/10/192...  \n",
              "1         NaN  http://www1.folha.uol.com.br/ilustrada/2017/10...  \n",
              "2         NaN  http://www1.folha.uol.com.br/poder/2017/10/192...  \n",
              "3         NaN  http://www1.folha.uol.com.br/ilustrada/2017/10...  \n",
              "4         NaN  http://www1.folha.uol.com.br/mercado/2017/10/1...  "
            ],
            "text/html": [
              "\n",
              "  <div id=\"df-bd0c5162-f93b-4b4c-814a-36394e52c793\">\n",
              "    <div class=\"colab-df-container\">\n",
              "      <div>\n",
              "<style scoped>\n",
              "    .dataframe tbody tr th:only-of-type {\n",
              "        vertical-align: middle;\n",
              "    }\n",
              "\n",
              "    .dataframe tbody tr th {\n",
              "        vertical-align: top;\n",
              "    }\n",
              "\n",
              "    .dataframe thead th {\n",
              "        text-align: right;\n",
              "    }\n",
              "</style>\n",
              "<table border=\"1\" class=\"dataframe\">\n",
              "  <thead>\n",
              "    <tr style=\"text-align: right;\">\n",
              "      <th></th>\n",
              "      <th>title</th>\n",
              "      <th>text</th>\n",
              "      <th>date</th>\n",
              "      <th>category</th>\n",
              "      <th>subcategory</th>\n",
              "      <th>link</th>\n",
              "    </tr>\n",
              "  </thead>\n",
              "  <tbody>\n",
              "    <tr>\n",
              "      <th>0</th>\n",
              "      <td>Lula diz que está 'lascado', mas que ainda tem...</td>\n",
              "      <td>Com a possibilidade de uma condenação impedir ...</td>\n",
              "      <td>2017-09-10</td>\n",
              "      <td>poder</td>\n",
              "      <td>NaN</td>\n",
              "      <td>http://www1.folha.uol.com.br/poder/2017/10/192...</td>\n",
              "    </tr>\n",
              "    <tr>\n",
              "      <th>1</th>\n",
              "      <td>'Decidi ser escrava das mulheres que sofrem', ...</td>\n",
              "      <td>Para Oumou Sangaré, cantora e ativista malines...</td>\n",
              "      <td>2017-09-10</td>\n",
              "      <td>ilustrada</td>\n",
              "      <td>NaN</td>\n",
              "      <td>http://www1.folha.uol.com.br/ilustrada/2017/10...</td>\n",
              "    </tr>\n",
              "    <tr>\n",
              "      <th>2</th>\n",
              "      <td>Três reportagens da Folha ganham Prêmio Petrob...</td>\n",
              "      <td>Três reportagens da Folha foram vencedoras do ...</td>\n",
              "      <td>2017-09-10</td>\n",
              "      <td>poder</td>\n",
              "      <td>NaN</td>\n",
              "      <td>http://www1.folha.uol.com.br/poder/2017/10/192...</td>\n",
              "    </tr>\n",
              "    <tr>\n",
              "      <th>3</th>\n",
              "      <td>Filme 'Star Wars: Os Últimos Jedi' ganha trail...</td>\n",
              "      <td>A Disney divulgou na noite desta segunda-feira...</td>\n",
              "      <td>2017-09-10</td>\n",
              "      <td>ilustrada</td>\n",
              "      <td>NaN</td>\n",
              "      <td>http://www1.folha.uol.com.br/ilustrada/2017/10...</td>\n",
              "    </tr>\n",
              "    <tr>\n",
              "      <th>4</th>\n",
              "      <td>CBSS inicia acordos com fintechs e quer 30% do...</td>\n",
              "      <td>O CBSS, banco da holding Elopar dos sócios Bra...</td>\n",
              "      <td>2017-09-10</td>\n",
              "      <td>mercado</td>\n",
              "      <td>NaN</td>\n",
              "      <td>http://www1.folha.uol.com.br/mercado/2017/10/1...</td>\n",
              "    </tr>\n",
              "  </tbody>\n",
              "</table>\n",
              "</div>\n",
              "      <button class=\"colab-df-convert\" onclick=\"convertToInteractive('df-bd0c5162-f93b-4b4c-814a-36394e52c793')\"\n",
              "              title=\"Convert this dataframe to an interactive table.\"\n",
              "              style=\"display:none;\">\n",
              "        \n",
              "  <svg xmlns=\"http://www.w3.org/2000/svg\" height=\"24px\"viewBox=\"0 0 24 24\"\n",
              "       width=\"24px\">\n",
              "    <path d=\"M0 0h24v24H0V0z\" fill=\"none\"/>\n",
              "    <path d=\"M18.56 5.44l.94 2.06.94-2.06 2.06-.94-2.06-.94-.94-2.06-.94 2.06-2.06.94zm-11 1L8.5 8.5l.94-2.06 2.06-.94-2.06-.94L8.5 2.5l-.94 2.06-2.06.94zm10 10l.94 2.06.94-2.06 2.06-.94-2.06-.94-.94-2.06-.94 2.06-2.06.94z\"/><path d=\"M17.41 7.96l-1.37-1.37c-.4-.4-.92-.59-1.43-.59-.52 0-1.04.2-1.43.59L10.3 9.45l-7.72 7.72c-.78.78-.78 2.05 0 2.83L4 21.41c.39.39.9.59 1.41.59.51 0 1.02-.2 1.41-.59l7.78-7.78 2.81-2.81c.8-.78.8-2.07 0-2.86zM5.41 20L4 18.59l7.72-7.72 1.47 1.35L5.41 20z\"/>\n",
              "  </svg>\n",
              "      </button>\n",
              "      \n",
              "  <style>\n",
              "    .colab-df-container {\n",
              "      display:flex;\n",
              "      flex-wrap:wrap;\n",
              "      gap: 12px;\n",
              "    }\n",
              "\n",
              "    .colab-df-convert {\n",
              "      background-color: #E8F0FE;\n",
              "      border: none;\n",
              "      border-radius: 50%;\n",
              "      cursor: pointer;\n",
              "      display: none;\n",
              "      fill: #1967D2;\n",
              "      height: 32px;\n",
              "      padding: 0 0 0 0;\n",
              "      width: 32px;\n",
              "    }\n",
              "\n",
              "    .colab-df-convert:hover {\n",
              "      background-color: #E2EBFA;\n",
              "      box-shadow: 0px 1px 2px rgba(60, 64, 67, 0.3), 0px 1px 3px 1px rgba(60, 64, 67, 0.15);\n",
              "      fill: #174EA6;\n",
              "    }\n",
              "\n",
              "    [theme=dark] .colab-df-convert {\n",
              "      background-color: #3B4455;\n",
              "      fill: #D2E3FC;\n",
              "    }\n",
              "\n",
              "    [theme=dark] .colab-df-convert:hover {\n",
              "      background-color: #434B5C;\n",
              "      box-shadow: 0px 1px 3px 1px rgba(0, 0, 0, 0.15);\n",
              "      filter: drop-shadow(0px 1px 2px rgba(0, 0, 0, 0.3));\n",
              "      fill: #FFFFFF;\n",
              "    }\n",
              "  </style>\n",
              "\n",
              "      <script>\n",
              "        const buttonEl =\n",
              "          document.querySelector('#df-bd0c5162-f93b-4b4c-814a-36394e52c793 button.colab-df-convert');\n",
              "        buttonEl.style.display =\n",
              "          google.colab.kernel.accessAllowed ? 'block' : 'none';\n",
              "\n",
              "        async function convertToInteractive(key) {\n",
              "          const element = document.querySelector('#df-bd0c5162-f93b-4b4c-814a-36394e52c793');\n",
              "          const dataTable =\n",
              "            await google.colab.kernel.invokeFunction('convertToInteractive',\n",
              "                                                     [key], {});\n",
              "          if (!dataTable) return;\n",
              "\n",
              "          const docLinkHtml = 'Like what you see? Visit the ' +\n",
              "            '<a target=\"_blank\" href=https://colab.research.google.com/notebooks/data_table.ipynb>data table notebook</a>'\n",
              "            + ' to learn more about interactive tables.';\n",
              "          element.innerHTML = '';\n",
              "          dataTable['output_type'] = 'display_data';\n",
              "          await google.colab.output.renderOutput(dataTable, element);\n",
              "          const docLink = document.createElement('div');\n",
              "          docLink.innerHTML = docLinkHtml;\n",
              "          element.appendChild(docLink);\n",
              "        }\n",
              "      </script>\n",
              "    </div>\n",
              "  </div>\n",
              "  "
            ]
          },
          "metadata": {},
          "execution_count": 6
        }
      ]
    },
    {
      "cell_type": "markdown",
      "source": [
        "Filtrando as notícias sobre Turismo"
      ],
      "metadata": {
        "id": "MUAYUWjXFtNh"
      }
    },
    {
      "cell_type": "code",
      "source": [
        "turismo = news[news['category'] == 'turismo']"
      ],
      "metadata": {
        "id": "2DC-MnXOFyp0"
      },
      "execution_count": 7,
      "outputs": []
    },
    {
      "cell_type": "code",
      "source": [
        "turismo.info()"
      ],
      "metadata": {
        "colab": {
          "base_uri": "https://localhost:8080/"
        },
        "id": "2SwOOWi8GAF7",
        "outputId": "59950da3-1cec-4452-8639-6286a61d04bf"
      },
      "execution_count": 8,
      "outputs": [
        {
          "output_type": "stream",
          "name": "stdout",
          "text": [
            "<class 'pandas.core.frame.DataFrame'>\n",
            "Int64Index: 1903 entries, 381 to 167031\n",
            "Data columns (total 6 columns):\n",
            " #   Column       Non-Null Count  Dtype \n",
            "---  ------       --------------  ----- \n",
            " 0   title        1903 non-null   object\n",
            " 1   text         1903 non-null   object\n",
            " 2   date         1903 non-null   object\n",
            " 3   category     1903 non-null   object\n",
            " 4   subcategory  0 non-null      object\n",
            " 5   link         1903 non-null   object\n",
            "dtypes: object(6)\n",
            "memory usage: 104.1+ KB\n"
          ]
        }
      ]
    },
    {
      "cell_type": "markdown",
      "source": [
        "Limpeza do texto (caracteres alfanuméricos, pontuações etc)"
      ],
      "metadata": {
        "id": "aVAGhq1iGJFe"
      }
    },
    {
      "cell_type": "code",
      "source": [
        "def limpa_texto(texto):\n",
        "  c = re.sub(r'\\n',' ', texto) #remove \\n e \\r\n",
        "  c = re.sub(r'\\r', ' ', c) #limpando caracteres no final de uma linha\n",
        "\n",
        "  c = c.replace(':', '') #remove caracteres alfanuméricos\n",
        "  c = c.replace('/', '')\n",
        "  c = re.sub(r'R\\$', '', c)\n",
        "  c = re.sub(r'\\W', ' ', c)\n",
        "\n",
        "  c = re.sub(r'\\s+', ' ', c) #remove espaços adicionais\n",
        "  c = re.sub(r'^\\s+', '', c) #remove espaços adicionais no início de frase\n",
        "  c = re.sub(r'\\s+$', '', c) #remove espaços adicionais no final das frases\n",
        "\n",
        "  return c.lower() #reduzir todo o texto para minúsculas\n"
      ],
      "metadata": {
        "id": "Q2G6YlZuGMlt"
      },
      "execution_count": 52,
      "outputs": []
    },
    {
      "cell_type": "code",
      "source": [
        "from spacy.lang.pt import Portuguese"
      ],
      "metadata": {
        "id": "q5EJtMYs6ITR"
      },
      "execution_count": 11,
      "outputs": []
    },
    {
      "cell_type": "code",
      "source": [
        "STOP_WORDS = spacy.lang.pt.stop_words.STOP_WORDS"
      ],
      "metadata": {
        "id": "nDqobsxg6NAL"
      },
      "execution_count": 12,
      "outputs": []
    },
    {
      "cell_type": "markdown",
      "source": [
        "Identificando as stop words"
      ],
      "metadata": {
        "id": "DKeeEefh6iL5"
      }
    },
    {
      "cell_type": "code",
      "source": [
        "STOP_WORDS"
      ],
      "metadata": {
        "colab": {
          "base_uri": "https://localhost:8080/"
        },
        "id": "jg6kgCP76U7d",
        "outputId": "be8e481e-aa02-4aa0-de9b-93fd6f5d56ba"
      },
      "execution_count": 13,
      "outputs": [
        {
          "output_type": "execute_result",
          "data": {
            "text/plain": [
              "{'a',\n",
              " 'acerca',\n",
              " 'ademais',\n",
              " 'adeus',\n",
              " 'agora',\n",
              " 'ainda',\n",
              " 'algo',\n",
              " 'algumas',\n",
              " 'alguns',\n",
              " 'ali',\n",
              " 'além',\n",
              " 'ambas',\n",
              " 'ambos',\n",
              " 'antes',\n",
              " 'ao',\n",
              " 'aos',\n",
              " 'apenas',\n",
              " 'apoia',\n",
              " 'apoio',\n",
              " 'apontar',\n",
              " 'após',\n",
              " 'aquela',\n",
              " 'aquelas',\n",
              " 'aquele',\n",
              " 'aqueles',\n",
              " 'aqui',\n",
              " 'aquilo',\n",
              " 'as',\n",
              " 'assim',\n",
              " 'através',\n",
              " 'atrás',\n",
              " 'até',\n",
              " 'aí',\n",
              " 'baixo',\n",
              " 'bastante',\n",
              " 'bem',\n",
              " 'boa',\n",
              " 'bom',\n",
              " 'breve',\n",
              " 'cada',\n",
              " 'caminho',\n",
              " 'catorze',\n",
              " 'cedo',\n",
              " 'cento',\n",
              " 'certamente',\n",
              " 'certeza',\n",
              " 'cima',\n",
              " 'cinco',\n",
              " 'coisa',\n",
              " 'com',\n",
              " 'como',\n",
              " 'comprida',\n",
              " 'comprido',\n",
              " 'conhecida',\n",
              " 'conhecido',\n",
              " 'conselho',\n",
              " 'contra',\n",
              " 'contudo',\n",
              " 'corrente',\n",
              " 'cuja',\n",
              " 'cujo',\n",
              " 'custa',\n",
              " 'cá',\n",
              " 'da',\n",
              " 'daquela',\n",
              " 'daquele',\n",
              " 'dar',\n",
              " 'das',\n",
              " 'de',\n",
              " 'debaixo',\n",
              " 'demais',\n",
              " 'dentro',\n",
              " 'depois',\n",
              " 'des',\n",
              " 'desde',\n",
              " 'dessa',\n",
              " 'desse',\n",
              " 'desta',\n",
              " 'deste',\n",
              " 'deve',\n",
              " 'devem',\n",
              " 'deverá',\n",
              " 'dez',\n",
              " 'dezanove',\n",
              " 'dezasseis',\n",
              " 'dezassete',\n",
              " 'dezoito',\n",
              " 'diante',\n",
              " 'direita',\n",
              " 'disso',\n",
              " 'diz',\n",
              " 'dizem',\n",
              " 'dizer',\n",
              " 'do',\n",
              " 'dois',\n",
              " 'dos',\n",
              " 'doze',\n",
              " 'duas',\n",
              " 'dá',\n",
              " 'dão',\n",
              " 'e',\n",
              " 'ela',\n",
              " 'elas',\n",
              " 'ele',\n",
              " 'eles',\n",
              " 'em',\n",
              " 'embora',\n",
              " 'enquanto',\n",
              " 'entre',\n",
              " 'então',\n",
              " 'era',\n",
              " 'essa',\n",
              " 'essas',\n",
              " 'esse',\n",
              " 'esses',\n",
              " 'esta',\n",
              " 'estado',\n",
              " 'estar',\n",
              " 'estará',\n",
              " 'estas',\n",
              " 'estava',\n",
              " 'este',\n",
              " 'estes',\n",
              " 'esteve',\n",
              " 'estive',\n",
              " 'estivemos',\n",
              " 'estiveram',\n",
              " 'estiveste',\n",
              " 'estivestes',\n",
              " 'estou',\n",
              " 'está',\n",
              " 'estás',\n",
              " 'estão',\n",
              " 'eu',\n",
              " 'eventual',\n",
              " 'exemplo',\n",
              " 'falta',\n",
              " 'fará',\n",
              " 'favor',\n",
              " 'faz',\n",
              " 'fazeis',\n",
              " 'fazem',\n",
              " 'fazemos',\n",
              " 'fazer',\n",
              " 'fazes',\n",
              " 'fazia',\n",
              " 'faço',\n",
              " 'fez',\n",
              " 'fim',\n",
              " 'final',\n",
              " 'foi',\n",
              " 'fomos',\n",
              " 'for',\n",
              " 'fora',\n",
              " 'foram',\n",
              " 'forma',\n",
              " 'foste',\n",
              " 'fostes',\n",
              " 'fui',\n",
              " 'geral',\n",
              " 'grande',\n",
              " 'grandes',\n",
              " 'grupo',\n",
              " 'inclusive',\n",
              " 'iniciar',\n",
              " 'inicio',\n",
              " 'ir',\n",
              " 'irá',\n",
              " 'isso',\n",
              " 'isto',\n",
              " 'já',\n",
              " 'lado',\n",
              " 'lhe',\n",
              " 'ligado',\n",
              " 'local',\n",
              " 'logo',\n",
              " 'longe',\n",
              " 'lugar',\n",
              " 'lá',\n",
              " 'maior',\n",
              " 'maioria',\n",
              " 'maiorias',\n",
              " 'mais',\n",
              " 'mal',\n",
              " 'mas',\n",
              " 'me',\n",
              " 'meio',\n",
              " 'menor',\n",
              " 'menos',\n",
              " 'meses',\n",
              " 'mesmo',\n",
              " 'meu',\n",
              " 'meus',\n",
              " 'mil',\n",
              " 'minha',\n",
              " 'minhas',\n",
              " 'momento',\n",
              " 'muito',\n",
              " 'muitos',\n",
              " 'máximo',\n",
              " 'mês',\n",
              " 'na',\n",
              " 'nada',\n",
              " 'naquela',\n",
              " 'naquele',\n",
              " 'nas',\n",
              " 'nem',\n",
              " 'nenhuma',\n",
              " 'nessa',\n",
              " 'nesse',\n",
              " 'nesta',\n",
              " 'neste',\n",
              " 'no',\n",
              " 'nos',\n",
              " 'nossa',\n",
              " 'nossas',\n",
              " 'nosso',\n",
              " 'nossos',\n",
              " 'nova',\n",
              " 'novas',\n",
              " 'nove',\n",
              " 'novo',\n",
              " 'novos',\n",
              " 'num',\n",
              " 'numa',\n",
              " 'nunca',\n",
              " 'nuns',\n",
              " 'não',\n",
              " 'nível',\n",
              " 'nós',\n",
              " 'número',\n",
              " 'números',\n",
              " 'o',\n",
              " 'obrigada',\n",
              " 'obrigado',\n",
              " 'oitava',\n",
              " 'oitavo',\n",
              " 'oito',\n",
              " 'onde',\n",
              " 'ontem',\n",
              " 'onze',\n",
              " 'ora',\n",
              " 'os',\n",
              " 'ou',\n",
              " 'outra',\n",
              " 'outras',\n",
              " 'outros',\n",
              " 'para',\n",
              " 'parece',\n",
              " 'parte',\n",
              " 'partir',\n",
              " 'pegar',\n",
              " 'pela',\n",
              " 'pelas',\n",
              " 'pelo',\n",
              " 'pelos',\n",
              " 'perto',\n",
              " 'pode',\n",
              " 'podem',\n",
              " 'poder',\n",
              " 'poderá',\n",
              " 'podia',\n",
              " 'pois',\n",
              " 'ponto',\n",
              " 'pontos',\n",
              " 'por',\n",
              " 'porquanto',\n",
              " 'porque',\n",
              " 'porquê',\n",
              " 'portanto',\n",
              " 'porém',\n",
              " 'posição',\n",
              " 'possivelmente',\n",
              " 'posso',\n",
              " 'possível',\n",
              " 'pouca',\n",
              " 'pouco',\n",
              " 'povo',\n",
              " 'primeira',\n",
              " 'primeiro',\n",
              " 'próprio',\n",
              " 'próxima',\n",
              " 'próximo',\n",
              " 'puderam',\n",
              " 'pôde',\n",
              " 'põe',\n",
              " 'põem',\n",
              " 'quais',\n",
              " 'qual',\n",
              " 'qualquer',\n",
              " 'quando',\n",
              " 'quanto',\n",
              " 'quarta',\n",
              " 'quarto',\n",
              " 'quatro',\n",
              " 'que',\n",
              " 'quem',\n",
              " 'quer',\n",
              " 'querem',\n",
              " 'quero',\n",
              " 'questão',\n",
              " 'quieta',\n",
              " 'quieto',\n",
              " 'quinta',\n",
              " 'quinto',\n",
              " 'quinze',\n",
              " 'quê',\n",
              " 'relação',\n",
              " 'sabe',\n",
              " 'saber',\n",
              " 'se',\n",
              " 'segunda',\n",
              " 'segundo',\n",
              " 'sei',\n",
              " 'seis',\n",
              " 'sem',\n",
              " 'sempre',\n",
              " 'ser',\n",
              " 'seria',\n",
              " 'sete',\n",
              " 'seu',\n",
              " 'seus',\n",
              " 'sexta',\n",
              " 'sexto',\n",
              " 'sim',\n",
              " 'sistema',\n",
              " 'sob',\n",
              " 'sobre',\n",
              " 'sois',\n",
              " 'somente',\n",
              " 'somos',\n",
              " 'sou',\n",
              " 'sua',\n",
              " 'suas',\n",
              " 'são',\n",
              " 'sétima',\n",
              " 'sétimo',\n",
              " 'só',\n",
              " 'tais',\n",
              " 'tal',\n",
              " 'talvez',\n",
              " 'também',\n",
              " 'tanta',\n",
              " 'tanto',\n",
              " 'tarde',\n",
              " 'te',\n",
              " 'tem',\n",
              " 'temos',\n",
              " 'tempo',\n",
              " 'tendes',\n",
              " 'tenho',\n",
              " 'tens',\n",
              " 'tentar',\n",
              " 'tentaram',\n",
              " 'tente',\n",
              " 'tentei',\n",
              " 'ter',\n",
              " 'terceira',\n",
              " 'terceiro',\n",
              " 'teu',\n",
              " 'teus',\n",
              " 'teve',\n",
              " 'tipo',\n",
              " 'tive',\n",
              " 'tivemos',\n",
              " 'tiveram',\n",
              " 'tiveste',\n",
              " 'tivestes',\n",
              " 'toda',\n",
              " 'todas',\n",
              " 'todo',\n",
              " 'todos',\n",
              " 'treze',\n",
              " 'três',\n",
              " 'tu',\n",
              " 'tua',\n",
              " 'tuas',\n",
              " 'tudo',\n",
              " 'tão',\n",
              " 'têm',\n",
              " 'um',\n",
              " 'uma',\n",
              " 'umas',\n",
              " 'uns',\n",
              " 'usa',\n",
              " 'usar',\n",
              " 'vai',\n",
              " 'vais',\n",
              " 'valor',\n",
              " 'veja',\n",
              " 'vem',\n",
              " 'vens',\n",
              " 'ver',\n",
              " 'vez',\n",
              " 'vezes',\n",
              " 'vinda',\n",
              " 'vindo',\n",
              " 'vinte',\n",
              " 'você',\n",
              " 'vocês',\n",
              " 'vos',\n",
              " 'vossa',\n",
              " 'vossas',\n",
              " 'vosso',\n",
              " 'vossos',\n",
              " 'vários',\n",
              " 'vão',\n",
              " 'vêm',\n",
              " 'vós',\n",
              " 'zero',\n",
              " 'à',\n",
              " 'às',\n",
              " 'área',\n",
              " 'é',\n",
              " 'és',\n",
              " 'último'}"
            ]
          },
          "metadata": {},
          "execution_count": 13
        }
      ]
    },
    {
      "cell_type": "markdown",
      "source": [
        "Removendo os tokens das stop words"
      ],
      "metadata": {
        "id": "p6tbBgPV7or2"
      }
    },
    {
      "cell_type": "code",
      "source": [
        "def remove_stop(texto):\n",
        "  doc = nlp_pt(texto)\n",
        "  return \" \".join(x.text for x in doc if x.text not in STOP_WORDS)"
      ],
      "metadata": {
        "id": "fOfvGCNT60cX"
      },
      "execution_count": 14,
      "outputs": []
    },
    {
      "cell_type": "markdown",
      "source": [
        "Limpa texto 2: \n",
        "transforma todos os tokens em seu lemma (palavra de dicionário)"
      ],
      "metadata": {
        "id": "7xphze8J7dPC"
      }
    },
    {
      "cell_type": "code",
      "source": [
        "def limpa_texto2(texto):\n",
        "  doc = nlp_pt(texto)\n",
        "  return \" \".join(x.lemma_ for x in doc if x.text not in STOP_WORDS)"
      ],
      "metadata": {
        "id": "n5cW92u17SE8"
      },
      "execution_count": 15,
      "outputs": []
    },
    {
      "cell_type": "markdown",
      "source": [
        "Análise exploratória: possíveis questões acerca do texto"
      ],
      "metadata": {
        "id": "1Szq98KR7w32"
      }
    },
    {
      "cell_type": "markdown",
      "source": [
        "1. número de palavras no título das notícias"
      ],
      "metadata": {
        "id": "02ZH2VPs713C"
      }
    },
    {
      "cell_type": "code",
      "source": [
        "turismo['title_n_words'] = turismo['title'].apply(lambda x : len(x.split()))"
      ],
      "metadata": {
        "id": "tfbRiYif7uMh"
      },
      "execution_count": 16,
      "outputs": []
    },
    {
      "cell_type": "code",
      "source": [
        "turismo.head()"
      ],
      "metadata": {
        "colab": {
          "base_uri": "https://localhost:8080/",
          "height": 337
        },
        "id": "fYVfy9158J25",
        "outputId": "2ebbf27d-d1e9-4278-90ed-8201d7807803"
      },
      "execution_count": 17,
      "outputs": [
        {
          "output_type": "execute_result",
          "data": {
            "text/plain": [
              "                                                 title  \\\n",
              "381  Latam inaugura voo direto de 15 horas entre Ch...   \n",
              "414  Turismo de Las Vegas deve se recuperar em mese...   \n",
              "522  Brasileiro cria app para economizar no passeio...   \n",
              "602       AirBnB passa a fazer reserva de restaurantes   \n",
              "609  Museus lembram quatro décadas de opressão sovi...   \n",
              "\n",
              "                                                  text        date category  \\\n",
              "381  Animem-se os que pretendem cruzar o Pacífico e...  2017-06-10  turismo   \n",
              "414  O massacre em Las Vegas afetará o turismo da c...  2017-06-10  turismo   \n",
              "522  Com cerca de 50 mil visitantes por dia, Veneza...  2017-05-10  turismo   \n",
              "602  A plataforma de hospedagem Airbnb anunciou que...  2017-05-10  turismo   \n",
              "609  Nos países que viveram sob a órbita da União S...  2017-05-10  turismo   \n",
              "\n",
              "    subcategory                                               link  \\\n",
              "381         NaN  http://www1.folha.uol.com.br/turismo/2017/10/1...   \n",
              "414         NaN  http://www1.folha.uol.com.br/turismo/2017/10/1...   \n",
              "522         NaN  http://www1.folha.uol.com.br/turismo/2017/10/1...   \n",
              "602         NaN  http://www1.folha.uol.com.br/turismo/2017/10/1...   \n",
              "609         NaN  http://www1.folha.uol.com.br/turismo/2017/10/1...   \n",
              "\n",
              "     title_n_words  \n",
              "381             11  \n",
              "414             11  \n",
              "522             11  \n",
              "602              7  \n",
              "609             10  "
            ],
            "text/html": [
              "\n",
              "  <div id=\"df-6c6acc99-aa01-4e00-9fbc-77041555908e\">\n",
              "    <div class=\"colab-df-container\">\n",
              "      <div>\n",
              "<style scoped>\n",
              "    .dataframe tbody tr th:only-of-type {\n",
              "        vertical-align: middle;\n",
              "    }\n",
              "\n",
              "    .dataframe tbody tr th {\n",
              "        vertical-align: top;\n",
              "    }\n",
              "\n",
              "    .dataframe thead th {\n",
              "        text-align: right;\n",
              "    }\n",
              "</style>\n",
              "<table border=\"1\" class=\"dataframe\">\n",
              "  <thead>\n",
              "    <tr style=\"text-align: right;\">\n",
              "      <th></th>\n",
              "      <th>title</th>\n",
              "      <th>text</th>\n",
              "      <th>date</th>\n",
              "      <th>category</th>\n",
              "      <th>subcategory</th>\n",
              "      <th>link</th>\n",
              "      <th>title_n_words</th>\n",
              "    </tr>\n",
              "  </thead>\n",
              "  <tbody>\n",
              "    <tr>\n",
              "      <th>381</th>\n",
              "      <td>Latam inaugura voo direto de 15 horas entre Ch...</td>\n",
              "      <td>Animem-se os que pretendem cruzar o Pacífico e...</td>\n",
              "      <td>2017-06-10</td>\n",
              "      <td>turismo</td>\n",
              "      <td>NaN</td>\n",
              "      <td>http://www1.folha.uol.com.br/turismo/2017/10/1...</td>\n",
              "      <td>11</td>\n",
              "    </tr>\n",
              "    <tr>\n",
              "      <th>414</th>\n",
              "      <td>Turismo de Las Vegas deve se recuperar em mese...</td>\n",
              "      <td>O massacre em Las Vegas afetará o turismo da c...</td>\n",
              "      <td>2017-06-10</td>\n",
              "      <td>turismo</td>\n",
              "      <td>NaN</td>\n",
              "      <td>http://www1.folha.uol.com.br/turismo/2017/10/1...</td>\n",
              "      <td>11</td>\n",
              "    </tr>\n",
              "    <tr>\n",
              "      <th>522</th>\n",
              "      <td>Brasileiro cria app para economizar no passeio...</td>\n",
              "      <td>Com cerca de 50 mil visitantes por dia, Veneza...</td>\n",
              "      <td>2017-05-10</td>\n",
              "      <td>turismo</td>\n",
              "      <td>NaN</td>\n",
              "      <td>http://www1.folha.uol.com.br/turismo/2017/10/1...</td>\n",
              "      <td>11</td>\n",
              "    </tr>\n",
              "    <tr>\n",
              "      <th>602</th>\n",
              "      <td>AirBnB passa a fazer reserva de restaurantes</td>\n",
              "      <td>A plataforma de hospedagem Airbnb anunciou que...</td>\n",
              "      <td>2017-05-10</td>\n",
              "      <td>turismo</td>\n",
              "      <td>NaN</td>\n",
              "      <td>http://www1.folha.uol.com.br/turismo/2017/10/1...</td>\n",
              "      <td>7</td>\n",
              "    </tr>\n",
              "    <tr>\n",
              "      <th>609</th>\n",
              "      <td>Museus lembram quatro décadas de opressão sovi...</td>\n",
              "      <td>Nos países que viveram sob a órbita da União S...</td>\n",
              "      <td>2017-05-10</td>\n",
              "      <td>turismo</td>\n",
              "      <td>NaN</td>\n",
              "      <td>http://www1.folha.uol.com.br/turismo/2017/10/1...</td>\n",
              "      <td>10</td>\n",
              "    </tr>\n",
              "  </tbody>\n",
              "</table>\n",
              "</div>\n",
              "      <button class=\"colab-df-convert\" onclick=\"convertToInteractive('df-6c6acc99-aa01-4e00-9fbc-77041555908e')\"\n",
              "              title=\"Convert this dataframe to an interactive table.\"\n",
              "              style=\"display:none;\">\n",
              "        \n",
              "  <svg xmlns=\"http://www.w3.org/2000/svg\" height=\"24px\"viewBox=\"0 0 24 24\"\n",
              "       width=\"24px\">\n",
              "    <path d=\"M0 0h24v24H0V0z\" fill=\"none\"/>\n",
              "    <path d=\"M18.56 5.44l.94 2.06.94-2.06 2.06-.94-2.06-.94-.94-2.06-.94 2.06-2.06.94zm-11 1L8.5 8.5l.94-2.06 2.06-.94-2.06-.94L8.5 2.5l-.94 2.06-2.06.94zm10 10l.94 2.06.94-2.06 2.06-.94-2.06-.94-.94-2.06-.94 2.06-2.06.94z\"/><path d=\"M17.41 7.96l-1.37-1.37c-.4-.4-.92-.59-1.43-.59-.52 0-1.04.2-1.43.59L10.3 9.45l-7.72 7.72c-.78.78-.78 2.05 0 2.83L4 21.41c.39.39.9.59 1.41.59.51 0 1.02-.2 1.41-.59l7.78-7.78 2.81-2.81c.8-.78.8-2.07 0-2.86zM5.41 20L4 18.59l7.72-7.72 1.47 1.35L5.41 20z\"/>\n",
              "  </svg>\n",
              "      </button>\n",
              "      \n",
              "  <style>\n",
              "    .colab-df-container {\n",
              "      display:flex;\n",
              "      flex-wrap:wrap;\n",
              "      gap: 12px;\n",
              "    }\n",
              "\n",
              "    .colab-df-convert {\n",
              "      background-color: #E8F0FE;\n",
              "      border: none;\n",
              "      border-radius: 50%;\n",
              "      cursor: pointer;\n",
              "      display: none;\n",
              "      fill: #1967D2;\n",
              "      height: 32px;\n",
              "      padding: 0 0 0 0;\n",
              "      width: 32px;\n",
              "    }\n",
              "\n",
              "    .colab-df-convert:hover {\n",
              "      background-color: #E2EBFA;\n",
              "      box-shadow: 0px 1px 2px rgba(60, 64, 67, 0.3), 0px 1px 3px 1px rgba(60, 64, 67, 0.15);\n",
              "      fill: #174EA6;\n",
              "    }\n",
              "\n",
              "    [theme=dark] .colab-df-convert {\n",
              "      background-color: #3B4455;\n",
              "      fill: #D2E3FC;\n",
              "    }\n",
              "\n",
              "    [theme=dark] .colab-df-convert:hover {\n",
              "      background-color: #434B5C;\n",
              "      box-shadow: 0px 1px 3px 1px rgba(0, 0, 0, 0.15);\n",
              "      filter: drop-shadow(0px 1px 2px rgba(0, 0, 0, 0.3));\n",
              "      fill: #FFFFFF;\n",
              "    }\n",
              "  </style>\n",
              "\n",
              "      <script>\n",
              "        const buttonEl =\n",
              "          document.querySelector('#df-6c6acc99-aa01-4e00-9fbc-77041555908e button.colab-df-convert');\n",
              "        buttonEl.style.display =\n",
              "          google.colab.kernel.accessAllowed ? 'block' : 'none';\n",
              "\n",
              "        async function convertToInteractive(key) {\n",
              "          const element = document.querySelector('#df-6c6acc99-aa01-4e00-9fbc-77041555908e');\n",
              "          const dataTable =\n",
              "            await google.colab.kernel.invokeFunction('convertToInteractive',\n",
              "                                                     [key], {});\n",
              "          if (!dataTable) return;\n",
              "\n",
              "          const docLinkHtml = 'Like what you see? Visit the ' +\n",
              "            '<a target=\"_blank\" href=https://colab.research.google.com/notebooks/data_table.ipynb>data table notebook</a>'\n",
              "            + ' to learn more about interactive tables.';\n",
              "          element.innerHTML = '';\n",
              "          dataTable['output_type'] = 'display_data';\n",
              "          await google.colab.output.renderOutput(dataTable, element);\n",
              "          const docLink = document.createElement('div');\n",
              "          docLink.innerHTML = docLinkHtml;\n",
              "          element.appendChild(docLink);\n",
              "        }\n",
              "      </script>\n",
              "    </div>\n",
              "  </div>\n",
              "  "
            ]
          },
          "metadata": {},
          "execution_count": 17
        }
      ]
    },
    {
      "cell_type": "code",
      "source": [
        "turismo.describe()"
      ],
      "metadata": {
        "colab": {
          "base_uri": "https://localhost:8080/",
          "height": 300
        },
        "id": "MDMOvJiX8RAQ",
        "outputId": "1225352e-0869-4539-bb66-76c7bc932b13"
      },
      "execution_count": 18,
      "outputs": [
        {
          "output_type": "execute_result",
          "data": {
            "text/plain": [
              "       title_n_words\n",
              "count    1903.000000\n",
              "mean       10.923805\n",
              "std         1.812440\n",
              "min         4.000000\n",
              "25%        10.000000\n",
              "50%        11.000000\n",
              "75%        12.000000\n",
              "max        20.000000"
            ],
            "text/html": [
              "\n",
              "  <div id=\"df-6b2bd38a-6072-4e7f-adcb-cf0e3a5c0253\">\n",
              "    <div class=\"colab-df-container\">\n",
              "      <div>\n",
              "<style scoped>\n",
              "    .dataframe tbody tr th:only-of-type {\n",
              "        vertical-align: middle;\n",
              "    }\n",
              "\n",
              "    .dataframe tbody tr th {\n",
              "        vertical-align: top;\n",
              "    }\n",
              "\n",
              "    .dataframe thead th {\n",
              "        text-align: right;\n",
              "    }\n",
              "</style>\n",
              "<table border=\"1\" class=\"dataframe\">\n",
              "  <thead>\n",
              "    <tr style=\"text-align: right;\">\n",
              "      <th></th>\n",
              "      <th>title_n_words</th>\n",
              "    </tr>\n",
              "  </thead>\n",
              "  <tbody>\n",
              "    <tr>\n",
              "      <th>count</th>\n",
              "      <td>1903.000000</td>\n",
              "    </tr>\n",
              "    <tr>\n",
              "      <th>mean</th>\n",
              "      <td>10.923805</td>\n",
              "    </tr>\n",
              "    <tr>\n",
              "      <th>std</th>\n",
              "      <td>1.812440</td>\n",
              "    </tr>\n",
              "    <tr>\n",
              "      <th>min</th>\n",
              "      <td>4.000000</td>\n",
              "    </tr>\n",
              "    <tr>\n",
              "      <th>25%</th>\n",
              "      <td>10.000000</td>\n",
              "    </tr>\n",
              "    <tr>\n",
              "      <th>50%</th>\n",
              "      <td>11.000000</td>\n",
              "    </tr>\n",
              "    <tr>\n",
              "      <th>75%</th>\n",
              "      <td>12.000000</td>\n",
              "    </tr>\n",
              "    <tr>\n",
              "      <th>max</th>\n",
              "      <td>20.000000</td>\n",
              "    </tr>\n",
              "  </tbody>\n",
              "</table>\n",
              "</div>\n",
              "      <button class=\"colab-df-convert\" onclick=\"convertToInteractive('df-6b2bd38a-6072-4e7f-adcb-cf0e3a5c0253')\"\n",
              "              title=\"Convert this dataframe to an interactive table.\"\n",
              "              style=\"display:none;\">\n",
              "        \n",
              "  <svg xmlns=\"http://www.w3.org/2000/svg\" height=\"24px\"viewBox=\"0 0 24 24\"\n",
              "       width=\"24px\">\n",
              "    <path d=\"M0 0h24v24H0V0z\" fill=\"none\"/>\n",
              "    <path d=\"M18.56 5.44l.94 2.06.94-2.06 2.06-.94-2.06-.94-.94-2.06-.94 2.06-2.06.94zm-11 1L8.5 8.5l.94-2.06 2.06-.94-2.06-.94L8.5 2.5l-.94 2.06-2.06.94zm10 10l.94 2.06.94-2.06 2.06-.94-2.06-.94-.94-2.06-.94 2.06-2.06.94z\"/><path d=\"M17.41 7.96l-1.37-1.37c-.4-.4-.92-.59-1.43-.59-.52 0-1.04.2-1.43.59L10.3 9.45l-7.72 7.72c-.78.78-.78 2.05 0 2.83L4 21.41c.39.39.9.59 1.41.59.51 0 1.02-.2 1.41-.59l7.78-7.78 2.81-2.81c.8-.78.8-2.07 0-2.86zM5.41 20L4 18.59l7.72-7.72 1.47 1.35L5.41 20z\"/>\n",
              "  </svg>\n",
              "      </button>\n",
              "      \n",
              "  <style>\n",
              "    .colab-df-container {\n",
              "      display:flex;\n",
              "      flex-wrap:wrap;\n",
              "      gap: 12px;\n",
              "    }\n",
              "\n",
              "    .colab-df-convert {\n",
              "      background-color: #E8F0FE;\n",
              "      border: none;\n",
              "      border-radius: 50%;\n",
              "      cursor: pointer;\n",
              "      display: none;\n",
              "      fill: #1967D2;\n",
              "      height: 32px;\n",
              "      padding: 0 0 0 0;\n",
              "      width: 32px;\n",
              "    }\n",
              "\n",
              "    .colab-df-convert:hover {\n",
              "      background-color: #E2EBFA;\n",
              "      box-shadow: 0px 1px 2px rgba(60, 64, 67, 0.3), 0px 1px 3px 1px rgba(60, 64, 67, 0.15);\n",
              "      fill: #174EA6;\n",
              "    }\n",
              "\n",
              "    [theme=dark] .colab-df-convert {\n",
              "      background-color: #3B4455;\n",
              "      fill: #D2E3FC;\n",
              "    }\n",
              "\n",
              "    [theme=dark] .colab-df-convert:hover {\n",
              "      background-color: #434B5C;\n",
              "      box-shadow: 0px 1px 3px 1px rgba(0, 0, 0, 0.15);\n",
              "      filter: drop-shadow(0px 1px 2px rgba(0, 0, 0, 0.3));\n",
              "      fill: #FFFFFF;\n",
              "    }\n",
              "  </style>\n",
              "\n",
              "      <script>\n",
              "        const buttonEl =\n",
              "          document.querySelector('#df-6b2bd38a-6072-4e7f-adcb-cf0e3a5c0253 button.colab-df-convert');\n",
              "        buttonEl.style.display =\n",
              "          google.colab.kernel.accessAllowed ? 'block' : 'none';\n",
              "\n",
              "        async function convertToInteractive(key) {\n",
              "          const element = document.querySelector('#df-6b2bd38a-6072-4e7f-adcb-cf0e3a5c0253');\n",
              "          const dataTable =\n",
              "            await google.colab.kernel.invokeFunction('convertToInteractive',\n",
              "                                                     [key], {});\n",
              "          if (!dataTable) return;\n",
              "\n",
              "          const docLinkHtml = 'Like what you see? Visit the ' +\n",
              "            '<a target=\"_blank\" href=https://colab.research.google.com/notebooks/data_table.ipynb>data table notebook</a>'\n",
              "            + ' to learn more about interactive tables.';\n",
              "          element.innerHTML = '';\n",
              "          dataTable['output_type'] = 'display_data';\n",
              "          await google.colab.output.renderOutput(dataTable, element);\n",
              "          const docLink = document.createElement('div');\n",
              "          docLink.innerHTML = docLinkHtml;\n",
              "          element.appendChild(docLink);\n",
              "        }\n",
              "      </script>\n",
              "    </div>\n",
              "  </div>\n",
              "  "
            ]
          },
          "metadata": {},
          "execution_count": 18
        }
      ]
    },
    {
      "cell_type": "markdown",
      "source": [
        "2. número de caracteres no título das notícias"
      ],
      "metadata": {
        "id": "wf9V_r7e8hN_"
      }
    },
    {
      "cell_type": "code",
      "source": [
        "turismo['title_n_chars'] = turismo['title'].apply(lambda x : len(x.replace(\" \", \"\")))"
      ],
      "metadata": {
        "id": "BLPyUFfU8gLs"
      },
      "execution_count": 19,
      "outputs": []
    },
    {
      "cell_type": "code",
      "source": [
        "turismo.head()"
      ],
      "metadata": {
        "colab": {
          "base_uri": "https://localhost:8080/",
          "height": 424
        },
        "id": "60cDr4Ky82Sh",
        "outputId": "5bf4ae25-f9cd-4beb-f193-f98d23f989d0"
      },
      "execution_count": 20,
      "outputs": [
        {
          "output_type": "execute_result",
          "data": {
            "text/plain": [
              "                                                 title  \\\n",
              "381  Latam inaugura voo direto de 15 horas entre Ch...   \n",
              "414  Turismo de Las Vegas deve se recuperar em mese...   \n",
              "522  Brasileiro cria app para economizar no passeio...   \n",
              "602       AirBnB passa a fazer reserva de restaurantes   \n",
              "609  Museus lembram quatro décadas de opressão sovi...   \n",
              "\n",
              "                                                  text        date category  \\\n",
              "381  Animem-se os que pretendem cruzar o Pacífico e...  2017-06-10  turismo   \n",
              "414  O massacre em Las Vegas afetará o turismo da c...  2017-06-10  turismo   \n",
              "522  Com cerca de 50 mil visitantes por dia, Veneza...  2017-05-10  turismo   \n",
              "602  A plataforma de hospedagem Airbnb anunciou que...  2017-05-10  turismo   \n",
              "609  Nos países que viveram sob a órbita da União S...  2017-05-10  turismo   \n",
              "\n",
              "    subcategory                                               link  \\\n",
              "381         NaN  http://www1.folha.uol.com.br/turismo/2017/10/1...   \n",
              "414         NaN  http://www1.folha.uol.com.br/turismo/2017/10/1...   \n",
              "522         NaN  http://www1.folha.uol.com.br/turismo/2017/10/1...   \n",
              "602         NaN  http://www1.folha.uol.com.br/turismo/2017/10/1...   \n",
              "609         NaN  http://www1.folha.uol.com.br/turismo/2017/10/1...   \n",
              "\n",
              "     title_n_words  title_n_chars  \n",
              "381             11             51  \n",
              "414             11             54  \n",
              "522             11             58  \n",
              "602              7             38  \n",
              "609             10             62  "
            ],
            "text/html": [
              "\n",
              "  <div id=\"df-71b877d4-ed5a-4c4f-8822-31322dc063ae\">\n",
              "    <div class=\"colab-df-container\">\n",
              "      <div>\n",
              "<style scoped>\n",
              "    .dataframe tbody tr th:only-of-type {\n",
              "        vertical-align: middle;\n",
              "    }\n",
              "\n",
              "    .dataframe tbody tr th {\n",
              "        vertical-align: top;\n",
              "    }\n",
              "\n",
              "    .dataframe thead th {\n",
              "        text-align: right;\n",
              "    }\n",
              "</style>\n",
              "<table border=\"1\" class=\"dataframe\">\n",
              "  <thead>\n",
              "    <tr style=\"text-align: right;\">\n",
              "      <th></th>\n",
              "      <th>title</th>\n",
              "      <th>text</th>\n",
              "      <th>date</th>\n",
              "      <th>category</th>\n",
              "      <th>subcategory</th>\n",
              "      <th>link</th>\n",
              "      <th>title_n_words</th>\n",
              "      <th>title_n_chars</th>\n",
              "    </tr>\n",
              "  </thead>\n",
              "  <tbody>\n",
              "    <tr>\n",
              "      <th>381</th>\n",
              "      <td>Latam inaugura voo direto de 15 horas entre Ch...</td>\n",
              "      <td>Animem-se os que pretendem cruzar o Pacífico e...</td>\n",
              "      <td>2017-06-10</td>\n",
              "      <td>turismo</td>\n",
              "      <td>NaN</td>\n",
              "      <td>http://www1.folha.uol.com.br/turismo/2017/10/1...</td>\n",
              "      <td>11</td>\n",
              "      <td>51</td>\n",
              "    </tr>\n",
              "    <tr>\n",
              "      <th>414</th>\n",
              "      <td>Turismo de Las Vegas deve se recuperar em mese...</td>\n",
              "      <td>O massacre em Las Vegas afetará o turismo da c...</td>\n",
              "      <td>2017-06-10</td>\n",
              "      <td>turismo</td>\n",
              "      <td>NaN</td>\n",
              "      <td>http://www1.folha.uol.com.br/turismo/2017/10/1...</td>\n",
              "      <td>11</td>\n",
              "      <td>54</td>\n",
              "    </tr>\n",
              "    <tr>\n",
              "      <th>522</th>\n",
              "      <td>Brasileiro cria app para economizar no passeio...</td>\n",
              "      <td>Com cerca de 50 mil visitantes por dia, Veneza...</td>\n",
              "      <td>2017-05-10</td>\n",
              "      <td>turismo</td>\n",
              "      <td>NaN</td>\n",
              "      <td>http://www1.folha.uol.com.br/turismo/2017/10/1...</td>\n",
              "      <td>11</td>\n",
              "      <td>58</td>\n",
              "    </tr>\n",
              "    <tr>\n",
              "      <th>602</th>\n",
              "      <td>AirBnB passa a fazer reserva de restaurantes</td>\n",
              "      <td>A plataforma de hospedagem Airbnb anunciou que...</td>\n",
              "      <td>2017-05-10</td>\n",
              "      <td>turismo</td>\n",
              "      <td>NaN</td>\n",
              "      <td>http://www1.folha.uol.com.br/turismo/2017/10/1...</td>\n",
              "      <td>7</td>\n",
              "      <td>38</td>\n",
              "    </tr>\n",
              "    <tr>\n",
              "      <th>609</th>\n",
              "      <td>Museus lembram quatro décadas de opressão sovi...</td>\n",
              "      <td>Nos países que viveram sob a órbita da União S...</td>\n",
              "      <td>2017-05-10</td>\n",
              "      <td>turismo</td>\n",
              "      <td>NaN</td>\n",
              "      <td>http://www1.folha.uol.com.br/turismo/2017/10/1...</td>\n",
              "      <td>10</td>\n",
              "      <td>62</td>\n",
              "    </tr>\n",
              "  </tbody>\n",
              "</table>\n",
              "</div>\n",
              "      <button class=\"colab-df-convert\" onclick=\"convertToInteractive('df-71b877d4-ed5a-4c4f-8822-31322dc063ae')\"\n",
              "              title=\"Convert this dataframe to an interactive table.\"\n",
              "              style=\"display:none;\">\n",
              "        \n",
              "  <svg xmlns=\"http://www.w3.org/2000/svg\" height=\"24px\"viewBox=\"0 0 24 24\"\n",
              "       width=\"24px\">\n",
              "    <path d=\"M0 0h24v24H0V0z\" fill=\"none\"/>\n",
              "    <path d=\"M18.56 5.44l.94 2.06.94-2.06 2.06-.94-2.06-.94-.94-2.06-.94 2.06-2.06.94zm-11 1L8.5 8.5l.94-2.06 2.06-.94-2.06-.94L8.5 2.5l-.94 2.06-2.06.94zm10 10l.94 2.06.94-2.06 2.06-.94-2.06-.94-.94-2.06-.94 2.06-2.06.94z\"/><path d=\"M17.41 7.96l-1.37-1.37c-.4-.4-.92-.59-1.43-.59-.52 0-1.04.2-1.43.59L10.3 9.45l-7.72 7.72c-.78.78-.78 2.05 0 2.83L4 21.41c.39.39.9.59 1.41.59.51 0 1.02-.2 1.41-.59l7.78-7.78 2.81-2.81c.8-.78.8-2.07 0-2.86zM5.41 20L4 18.59l7.72-7.72 1.47 1.35L5.41 20z\"/>\n",
              "  </svg>\n",
              "      </button>\n",
              "      \n",
              "  <style>\n",
              "    .colab-df-container {\n",
              "      display:flex;\n",
              "      flex-wrap:wrap;\n",
              "      gap: 12px;\n",
              "    }\n",
              "\n",
              "    .colab-df-convert {\n",
              "      background-color: #E8F0FE;\n",
              "      border: none;\n",
              "      border-radius: 50%;\n",
              "      cursor: pointer;\n",
              "      display: none;\n",
              "      fill: #1967D2;\n",
              "      height: 32px;\n",
              "      padding: 0 0 0 0;\n",
              "      width: 32px;\n",
              "    }\n",
              "\n",
              "    .colab-df-convert:hover {\n",
              "      background-color: #E2EBFA;\n",
              "      box-shadow: 0px 1px 2px rgba(60, 64, 67, 0.3), 0px 1px 3px 1px rgba(60, 64, 67, 0.15);\n",
              "      fill: #174EA6;\n",
              "    }\n",
              "\n",
              "    [theme=dark] .colab-df-convert {\n",
              "      background-color: #3B4455;\n",
              "      fill: #D2E3FC;\n",
              "    }\n",
              "\n",
              "    [theme=dark] .colab-df-convert:hover {\n",
              "      background-color: #434B5C;\n",
              "      box-shadow: 0px 1px 3px 1px rgba(0, 0, 0, 0.15);\n",
              "      filter: drop-shadow(0px 1px 2px rgba(0, 0, 0, 0.3));\n",
              "      fill: #FFFFFF;\n",
              "    }\n",
              "  </style>\n",
              "\n",
              "      <script>\n",
              "        const buttonEl =\n",
              "          document.querySelector('#df-71b877d4-ed5a-4c4f-8822-31322dc063ae button.colab-df-convert');\n",
              "        buttonEl.style.display =\n",
              "          google.colab.kernel.accessAllowed ? 'block' : 'none';\n",
              "\n",
              "        async function convertToInteractive(key) {\n",
              "          const element = document.querySelector('#df-71b877d4-ed5a-4c4f-8822-31322dc063ae');\n",
              "          const dataTable =\n",
              "            await google.colab.kernel.invokeFunction('convertToInteractive',\n",
              "                                                     [key], {});\n",
              "          if (!dataTable) return;\n",
              "\n",
              "          const docLinkHtml = 'Like what you see? Visit the ' +\n",
              "            '<a target=\"_blank\" href=https://colab.research.google.com/notebooks/data_table.ipynb>data table notebook</a>'\n",
              "            + ' to learn more about interactive tables.';\n",
              "          element.innerHTML = '';\n",
              "          dataTable['output_type'] = 'display_data';\n",
              "          await google.colab.output.renderOutput(dataTable, element);\n",
              "          const docLink = document.createElement('div');\n",
              "          docLink.innerHTML = docLinkHtml;\n",
              "          element.appendChild(docLink);\n",
              "        }\n",
              "      </script>\n",
              "    </div>\n",
              "  </div>\n",
              "  "
            ]
          },
          "metadata": {},
          "execution_count": 20
        }
      ]
    },
    {
      "cell_type": "code",
      "source": [
        "turismo.describe()"
      ],
      "metadata": {
        "colab": {
          "base_uri": "https://localhost:8080/",
          "height": 300
        },
        "id": "QBH31zGZ87-f",
        "outputId": "277a809c-0f9c-4c87-abdc-6cc4d61937e2"
      },
      "execution_count": 23,
      "outputs": [
        {
          "output_type": "execute_result",
          "data": {
            "text/plain": [
              "       title_n_words  title_n_chars\n",
              "count    1903.000000    1903.000000\n",
              "mean       10.923805      55.666842\n",
              "std         1.812440       6.309523\n",
              "min         4.000000      25.000000\n",
              "25%        10.000000      52.000000\n",
              "50%        11.000000      57.000000\n",
              "75%        12.000000      60.000000\n",
              "max        20.000000      87.000000"
            ],
            "text/html": [
              "\n",
              "  <div id=\"df-c27b614d-8fdf-4320-8623-63e63ece0354\">\n",
              "    <div class=\"colab-df-container\">\n",
              "      <div>\n",
              "<style scoped>\n",
              "    .dataframe tbody tr th:only-of-type {\n",
              "        vertical-align: middle;\n",
              "    }\n",
              "\n",
              "    .dataframe tbody tr th {\n",
              "        vertical-align: top;\n",
              "    }\n",
              "\n",
              "    .dataframe thead th {\n",
              "        text-align: right;\n",
              "    }\n",
              "</style>\n",
              "<table border=\"1\" class=\"dataframe\">\n",
              "  <thead>\n",
              "    <tr style=\"text-align: right;\">\n",
              "      <th></th>\n",
              "      <th>title_n_words</th>\n",
              "      <th>title_n_chars</th>\n",
              "    </tr>\n",
              "  </thead>\n",
              "  <tbody>\n",
              "    <tr>\n",
              "      <th>count</th>\n",
              "      <td>1903.000000</td>\n",
              "      <td>1903.000000</td>\n",
              "    </tr>\n",
              "    <tr>\n",
              "      <th>mean</th>\n",
              "      <td>10.923805</td>\n",
              "      <td>55.666842</td>\n",
              "    </tr>\n",
              "    <tr>\n",
              "      <th>std</th>\n",
              "      <td>1.812440</td>\n",
              "      <td>6.309523</td>\n",
              "    </tr>\n",
              "    <tr>\n",
              "      <th>min</th>\n",
              "      <td>4.000000</td>\n",
              "      <td>25.000000</td>\n",
              "    </tr>\n",
              "    <tr>\n",
              "      <th>25%</th>\n",
              "      <td>10.000000</td>\n",
              "      <td>52.000000</td>\n",
              "    </tr>\n",
              "    <tr>\n",
              "      <th>50%</th>\n",
              "      <td>11.000000</td>\n",
              "      <td>57.000000</td>\n",
              "    </tr>\n",
              "    <tr>\n",
              "      <th>75%</th>\n",
              "      <td>12.000000</td>\n",
              "      <td>60.000000</td>\n",
              "    </tr>\n",
              "    <tr>\n",
              "      <th>max</th>\n",
              "      <td>20.000000</td>\n",
              "      <td>87.000000</td>\n",
              "    </tr>\n",
              "  </tbody>\n",
              "</table>\n",
              "</div>\n",
              "      <button class=\"colab-df-convert\" onclick=\"convertToInteractive('df-c27b614d-8fdf-4320-8623-63e63ece0354')\"\n",
              "              title=\"Convert this dataframe to an interactive table.\"\n",
              "              style=\"display:none;\">\n",
              "        \n",
              "  <svg xmlns=\"http://www.w3.org/2000/svg\" height=\"24px\"viewBox=\"0 0 24 24\"\n",
              "       width=\"24px\">\n",
              "    <path d=\"M0 0h24v24H0V0z\" fill=\"none\"/>\n",
              "    <path d=\"M18.56 5.44l.94 2.06.94-2.06 2.06-.94-2.06-.94-.94-2.06-.94 2.06-2.06.94zm-11 1L8.5 8.5l.94-2.06 2.06-.94-2.06-.94L8.5 2.5l-.94 2.06-2.06.94zm10 10l.94 2.06.94-2.06 2.06-.94-2.06-.94-.94-2.06-.94 2.06-2.06.94z\"/><path d=\"M17.41 7.96l-1.37-1.37c-.4-.4-.92-.59-1.43-.59-.52 0-1.04.2-1.43.59L10.3 9.45l-7.72 7.72c-.78.78-.78 2.05 0 2.83L4 21.41c.39.39.9.59 1.41.59.51 0 1.02-.2 1.41-.59l7.78-7.78 2.81-2.81c.8-.78.8-2.07 0-2.86zM5.41 20L4 18.59l7.72-7.72 1.47 1.35L5.41 20z\"/>\n",
              "  </svg>\n",
              "      </button>\n",
              "      \n",
              "  <style>\n",
              "    .colab-df-container {\n",
              "      display:flex;\n",
              "      flex-wrap:wrap;\n",
              "      gap: 12px;\n",
              "    }\n",
              "\n",
              "    .colab-df-convert {\n",
              "      background-color: #E8F0FE;\n",
              "      border: none;\n",
              "      border-radius: 50%;\n",
              "      cursor: pointer;\n",
              "      display: none;\n",
              "      fill: #1967D2;\n",
              "      height: 32px;\n",
              "      padding: 0 0 0 0;\n",
              "      width: 32px;\n",
              "    }\n",
              "\n",
              "    .colab-df-convert:hover {\n",
              "      background-color: #E2EBFA;\n",
              "      box-shadow: 0px 1px 2px rgba(60, 64, 67, 0.3), 0px 1px 3px 1px rgba(60, 64, 67, 0.15);\n",
              "      fill: #174EA6;\n",
              "    }\n",
              "\n",
              "    [theme=dark] .colab-df-convert {\n",
              "      background-color: #3B4455;\n",
              "      fill: #D2E3FC;\n",
              "    }\n",
              "\n",
              "    [theme=dark] .colab-df-convert:hover {\n",
              "      background-color: #434B5C;\n",
              "      box-shadow: 0px 1px 3px 1px rgba(0, 0, 0, 0.15);\n",
              "      filter: drop-shadow(0px 1px 2px rgba(0, 0, 0, 0.3));\n",
              "      fill: #FFFFFF;\n",
              "    }\n",
              "  </style>\n",
              "\n",
              "      <script>\n",
              "        const buttonEl =\n",
              "          document.querySelector('#df-c27b614d-8fdf-4320-8623-63e63ece0354 button.colab-df-convert');\n",
              "        buttonEl.style.display =\n",
              "          google.colab.kernel.accessAllowed ? 'block' : 'none';\n",
              "\n",
              "        async function convertToInteractive(key) {\n",
              "          const element = document.querySelector('#df-c27b614d-8fdf-4320-8623-63e63ece0354');\n",
              "          const dataTable =\n",
              "            await google.colab.kernel.invokeFunction('convertToInteractive',\n",
              "                                                     [key], {});\n",
              "          if (!dataTable) return;\n",
              "\n",
              "          const docLinkHtml = 'Like what you see? Visit the ' +\n",
              "            '<a target=\"_blank\" href=https://colab.research.google.com/notebooks/data_table.ipynb>data table notebook</a>'\n",
              "            + ' to learn more about interactive tables.';\n",
              "          element.innerHTML = '';\n",
              "          dataTable['output_type'] = 'display_data';\n",
              "          await google.colab.output.renderOutput(dataTable, element);\n",
              "          const docLink = document.createElement('div');\n",
              "          docLink.innerHTML = docLinkHtml;\n",
              "          element.appendChild(docLink);\n",
              "        }\n",
              "      </script>\n",
              "    </div>\n",
              "  </div>\n",
              "  "
            ]
          },
          "metadata": {},
          "execution_count": 23
        }
      ]
    },
    {
      "cell_type": "code",
      "source": [
        "turismo.title_n_words.hist();\n",
        "plt.xlabel('número de palavras')\n",
        "plt.ylabel('qtd')\n",
        "plt.grid(b=None)\n",
        "plt.show()"
      ],
      "metadata": {
        "colab": {
          "base_uri": "https://localhost:8080/",
          "height": 280
        },
        "id": "q78PgGyL9bgf",
        "outputId": "cf7b676e-52df-4d72-8a9f-8e82cd9444d8"
      },
      "execution_count": 24,
      "outputs": [
        {
          "output_type": "display_data",
          "data": {
            "text/plain": [
              "<Figure size 432x288 with 1 Axes>"
            ],
            "image/png": "[encoded data removed]"
          },
          "metadata": {
            "needs_background": "light"
          }
        }
      ]
    },
    {
      "cell_type": "code",
      "source": [
        "turismo.title_n_chars.hist();\n",
        "plt.xlabel('número de caracteres')\n",
        "plt.ylabel('qtd')\n",
        "plt.grid(b=None)\n",
        "plt.show()"
      ],
      "metadata": {
        "colab": {
          "base_uri": "https://localhost:8080/",
          "height": 279
        },
        "id": "mPR1UcL49pnh",
        "outputId": "63aa8a31-6e16-443b-f7e2-130a58e87e85"
      },
      "execution_count": 25,
      "outputs": [
        {
          "output_type": "display_data",
          "data": {
            "text/plain": [
              "<Figure size 432x288 with 1 Axes>"
            ],
            "image/png": "[encoded data removed]"
          },
          "metadata": {
            "needs_background": "light"
          }
        }
      ]
    },
    {
      "cell_type": "markdown",
      "source": [
        "Limpeza dos dados"
      ],
      "metadata": {
        "id": "UqMEDFsf_Wrm"
      }
    },
    {
      "cell_type": "markdown",
      "source": [
        "Carregamento do corpus em língua portuguesa:"
      ],
      "metadata": {
        "id": "rWbJ8EbB_lr4"
      }
    },
    {
      "cell_type": "code",
      "source": [
        "nlp_pt = spacy.load('pt_core_news_sm') #armazenando o corpus em nlp_pt"
      ],
      "metadata": {
        "id": "nRrWiqN9_YcJ"
      },
      "execution_count": 53,
      "outputs": []
    },
    {
      "cell_type": "code",
      "source": [
        "rev = turismo.iloc[0]['title'] #extraindo o título da primeira notícia"
      ],
      "metadata": {
        "id": "SyyLZLjj_j9m"
      },
      "execution_count": 54,
      "outputs": []
    },
    {
      "cell_type": "code",
      "source": [
        "rev"
      ],
      "metadata": {
        "colab": {
          "base_uri": "https://localhost:8080/",
          "height": 35
        },
        "id": "3H0_srk-_2ry",
        "outputId": "f8b4fa8d-cc98-4391-9e09-243689ffa957"
      },
      "execution_count": 55,
      "outputs": [
        {
          "output_type": "execute_result",
          "data": {
            "text/plain": [
              "'Latam inaugura voo direto de 15 horas entre Chile e Austrália'"
            ],
            "application/vnd.google.colaboratory.intrinsic+json": {
              "type": "string"
            }
          },
          "metadata": {},
          "execution_count": 55
        }
      ]
    },
    {
      "cell_type": "code",
      "source": [
        "rev = limpa_texto(rev) #aqui acontece toda a mágica do Spacy"
      ],
      "metadata": {
        "id": "qBoVQnq9_7vG"
      },
      "execution_count": 56,
      "outputs": []
    },
    {
      "cell_type": "code",
      "source": [
        "rev"
      ],
      "metadata": {
        "colab": {
          "base_uri": "https://localhost:8080/",
          "height": 35
        },
        "id": "GZGBYv9SAAt_",
        "outputId": "13918424-0bec-4615-f3ae-9dcfd7476795"
      },
      "execution_count": 57,
      "outputs": [
        {
          "output_type": "execute_result",
          "data": {
            "text/plain": [
              "'latam inaugura voo direto de 15 horas entre chile e austrália'"
            ],
            "application/vnd.google.colaboratory.intrinsic+json": {
              "type": "string"
            }
          },
          "metadata": {},
          "execution_count": 57
        }
      ]
    },
    {
      "cell_type": "code",
      "source": [
        "rev2 = turismo.iloc[5]['title']"
      ],
      "metadata": {
        "id": "uFdtQY6wAt0R"
      },
      "execution_count": 58,
      "outputs": []
    },
    {
      "cell_type": "code",
      "source": [
        "rev2"
      ],
      "metadata": {
        "colab": {
          "base_uri": "https://localhost:8080/",
          "height": 35
        },
        "id": "wFeKP5u3Ax6s",
        "outputId": "af1daae0-b05c-4a39-9574-4e9123972cf9"
      },
      "execution_count": 59,
      "outputs": [
        {
          "output_type": "execute_result",
          "data": {
            "text/plain": [
              "\"'Viagem ao Japão é aula de cultura e tradição', diz ator Jayme Matarazzo\""
            ],
            "application/vnd.google.colaboratory.intrinsic+json": {
              "type": "string"
            }
          },
          "metadata": {},
          "execution_count": 59
        }
      ]
    },
    {
      "cell_type": "code",
      "source": [
        "limpa_texto(rev2)"
      ],
      "metadata": {
        "colab": {
          "base_uri": "https://localhost:8080/",
          "height": 35
        },
        "id": "outHEnM2A44v",
        "outputId": "a2ee5754-7089-45f2-9e67-deb4af105fa1"
      },
      "execution_count": 60,
      "outputs": [
        {
          "output_type": "execute_result",
          "data": {
            "text/plain": [
              "'viagem ao japão é aula de cultura e tradição diz ator jayme matarazzo'"
            ],
            "application/vnd.google.colaboratory.intrinsic+json": {
              "type": "string"
            }
          },
          "metadata": {},
          "execution_count": 60
        }
      ]
    },
    {
      "cell_type": "markdown",
      "source": [
        "\n",
        "\n",
        "\n",
        "\n"
      ],
      "metadata": {
        "id": "eL51BBtcBB6p"
      }
    },
    {
      "cell_type": "code",
      "source": [
        "rev = nlp_pt(rev)"
      ],
      "metadata": {
        "id": "ZR-fx951BEqz"
      },
      "execution_count": 64,
      "outputs": []
    },
    {
      "cell_type": "code",
      "source": [
        "def exibe_tokens(texto):\n",
        "  col_names = ['ALPHA', 'PUNCT', 'LIKE NUM', 'POS']\n",
        "  formatted_text = '{:>16}' * (len(col_names)+ 1)\n",
        "  print('\\n', formatted_text.format('INPUT WORD', *col_names), '\\n', '='*130)\n",
        "\n",
        "  for token in texto:\n",
        "    output = [token.text, token.is_alpha, token.is_punct, token.like_num, token.pos_]\n",
        "    print(formatted_text.format(*output))"
      ],
      "metadata": {
        "id": "vJlC7vH4BJYy"
      },
      "execution_count": 65,
      "outputs": []
    },
    {
      "cell_type": "code",
      "source": [
        "exibe_tokens(rev)"
      ],
      "metadata": {
        "colab": {
          "base_uri": "https://localhost:8080/"
        },
        "id": "GvW49t1wB8TQ",
        "outputId": "9ced1a5f-ab4e-44f2-ff09-6ee0291ecdd1"
      },
      "execution_count": 66,
      "outputs": [
        {
          "output_type": "stream",
          "name": "stdout",
          "text": [
            "\n",
            "       INPUT WORD           ALPHA           PUNCT        LIKE NUM             POS \n",
            " ==================================================================================================================================\n",
            "           latam               1               0               0            VERB\n",
            "        inaugura               1               0               0            VERB\n",
            "             voo               1               0               0            NOUN\n",
            "          direto               1               0               0             ADJ\n",
            "              de               1               0               0             ADP\n",
            "              15               0               0               1             NUM\n",
            "           horas               1               0               0            NOUN\n",
            "           entre               1               0               0             ADP\n",
            "           chile               1               0               0           PROPN\n",
            "               e               1               0               0           CCONJ\n",
            "       austrália               1               0               0            VERB\n"
          ]
        }
      ]
    },
    {
      "cell_type": "code",
      "source": [
        "from spacy import displacy"
      ],
      "metadata": {
        "id": "n5gy0oBhFnxV"
      },
      "execution_count": 67,
      "outputs": []
    },
    {
      "cell_type": "markdown",
      "source": [
        "Informando a biblioteca Spacy com displacy que estamos usando o Google Colab, algo semelhante a um Jupyter Notebook"
      ],
      "metadata": {
        "id": "yOA6-3E2F3Pk"
      }
    },
    {
      "cell_type": "code",
      "source": [
        "displacy.render(rev, style='dep', jupyter=True)"
      ],
      "metadata": {
        "colab": {
          "base_uri": "https://localhost:8080/",
          "height": 528
        },
        "id": "dmqs12tPFq_6",
        "outputId": "650caeec-947f-4ceb-9dbf-b6c5bb68c679"
      },
      "execution_count": 68,
      "outputs": [
        {
          "output_type": "display_data",
          "data": {
            "text/plain": [
              "<IPython.core.display.HTML object>"
            ],
            "text/html": [
              "<span class=\"tex2jax_ignore\"><svg xmlns=\"http://www.w3.org/2000/svg\" xmlns:xlink=\"http://www.w3.org/1999/xlink\" xml:lang=\"pt\" id=\"93d33adefc7946e78bd672baf0bc0b6f-0\" class=\"displacy\" width=\"1975\" height=\"487.0\" direction=\"ltr\" style=\"max-width: none; height: 487.0px; color: #000000; background: #ffffff; font-family: Arial; direction: ltr\">\n",
              "<text class=\"displacy-token\" fill=\"currentColor\" text-anchor=\"middle\" y=\"397.0\">\n",
              "    <tspan class=\"displacy-word\" fill=\"currentColor\" x=\"50\">latam</tspan>\n",
              "    <tspan class=\"displacy-tag\" dy=\"2em\" fill=\"currentColor\" x=\"50\">VERB</tspan>\n",
              "</text>\n",
              "\n",
              "<text class=\"displacy-token\" fill=\"currentColor\" text-anchor=\"middle\" y=\"397.0\">\n",
              "    <tspan class=\"displacy-word\" fill=\"currentColor\" x=\"225\">inaugura</tspan>\n",
              "    <tspan class=\"displacy-tag\" dy=\"2em\" fill=\"currentColor\" x=\"225\">VERB</tspan>\n",
              "</text>\n",
              "\n",
              "<text class=\"displacy-token\" fill=\"currentColor\" text-anchor=\"middle\" y=\"397.0\">\n",
              "    <tspan class=\"displacy-word\" fill=\"currentColor\" x=\"400\">voo</tspan>\n",
              "    <tspan class=\"displacy-tag\" dy=\"2em\" fill=\"currentColor\" x=\"400\">NOUN</tspan>\n",
              "</text>\n",
              "\n",
              "<text class=\"displacy-token\" fill=\"currentColor\" text-anchor=\"middle\" y=\"397.0\">\n",
              "    <tspan class=\"displacy-word\" fill=\"currentColor\" x=\"575\">direto</tspan>\n",
              "    <tspan class=\"displacy-tag\" dy=\"2em\" fill=\"currentColor\" x=\"575\">ADJ</tspan>\n",
              "</text>\n",
              "\n",
              "<text class=\"displacy-token\" fill=\"currentColor\" text-anchor=\"middle\" y=\"397.0\">\n",
              "    <tspan class=\"displacy-word\" fill=\"currentColor\" x=\"750\">de</tspan>\n",
              "    <tspan class=\"displacy-tag\" dy=\"2em\" fill=\"currentColor\" x=\"750\">ADP</tspan>\n",
              "</text>\n",
              "\n",
              "<text class=\"displacy-token\" fill=\"currentColor\" text-anchor=\"middle\" y=\"397.0\">\n",
              "    <tspan class=\"displacy-word\" fill=\"currentColor\" x=\"925\">15</tspan>\n",
              "    <tspan class=\"displacy-tag\" dy=\"2em\" fill=\"currentColor\" x=\"925\">NUM</tspan>\n",
              "</text>\n",
              "\n",
              "<text class=\"displacy-token\" fill=\"currentColor\" text-anchor=\"middle\" y=\"397.0\">\n",
              "    <tspan class=\"displacy-word\" fill=\"currentColor\" x=\"1100\">horas</tspan>\n",
              "    <tspan class=\"displacy-tag\" dy=\"2em\" fill=\"currentColor\" x=\"1100\">NOUN</tspan>\n",
              "</text>\n",
              "\n",
              "<text class=\"displacy-token\" fill=\"currentColor\" text-anchor=\"middle\" y=\"397.0\">\n",
              "    <tspan class=\"displacy-word\" fill=\"currentColor\" x=\"1275\">entre</tspan>\n",
              "    <tspan class=\"displacy-tag\" dy=\"2em\" fill=\"currentColor\" x=\"1275\">ADP</tspan>\n",
              "</text>\n",
              "\n",
              "<text class=\"displacy-token\" fill=\"currentColor\" text-anchor=\"middle\" y=\"397.0\">\n",
              "    <tspan class=\"displacy-word\" fill=\"currentColor\" x=\"1450\">chile</tspan>\n",
              "    <tspan class=\"displacy-tag\" dy=\"2em\" fill=\"currentColor\" x=\"1450\">PROPN</tspan>\n",
              "</text>\n",
              "\n",
              "<text class=\"displacy-token\" fill=\"currentColor\" text-anchor=\"middle\" y=\"397.0\">\n",
              "    <tspan class=\"displacy-word\" fill=\"currentColor\" x=\"1625\">e</tspan>\n",
              "    <tspan class=\"displacy-tag\" dy=\"2em\" fill=\"currentColor\" x=\"1625\">CCONJ</tspan>\n",
              "</text>\n",
              "\n",
              "<text class=\"displacy-token\" fill=\"currentColor\" text-anchor=\"middle\" y=\"397.0\">\n",
              "    <tspan class=\"displacy-word\" fill=\"currentColor\" x=\"1800\">austrália</tspan>\n",
              "    <tspan class=\"displacy-tag\" dy=\"2em\" fill=\"currentColor\" x=\"1800\">VERB</tspan>\n",
              "</text>\n",
              "\n",
              "<g class=\"displacy-arrow\">\n",
              "    <path class=\"displacy-arc\" id=\"arrow-93d33adefc7946e78bd672baf0bc0b6f-0-0\" stroke-width=\"2px\" d=\"M70,352.0 C70,264.5 210.0,264.5 210.0,352.0\" fill=\"none\" stroke=\"currentColor\"/>\n",
              "    <text dy=\"1.25em\" style=\"font-size: 0.8em; letter-spacing: 1px\">\n",
              "        <textPath xlink:href=\"#arrow-93d33adefc7946e78bd672baf0bc0b6f-0-0\" class=\"displacy-label\" startOffset=\"50%\" side=\"left\" fill=\"currentColor\" text-anchor=\"middle\">advcl</textPath>\n",
              "    </text>\n",
              "    <path class=\"displacy-arrowhead\" d=\"M210.0,354.0 L218.0,342.0 202.0,342.0\" fill=\"currentColor\"/>\n",
              "</g>\n",
              "\n",
              "<g class=\"displacy-arrow\">\n",
              "    <path class=\"displacy-arc\" id=\"arrow-93d33adefc7946e78bd672baf0bc0b6f-0-1\" stroke-width=\"2px\" d=\"M245,352.0 C245,264.5 385.0,264.5 385.0,352.0\" fill=\"none\" stroke=\"currentColor\"/>\n",
              "    <text dy=\"1.25em\" style=\"font-size: 0.8em; letter-spacing: 1px\">\n",
              "        <textPath xlink:href=\"#arrow-93d33adefc7946e78bd672baf0bc0b6f-0-1\" class=\"displacy-label\" startOffset=\"50%\" side=\"left\" fill=\"currentColor\" text-anchor=\"middle\">obj</textPath>\n",
              "    </text>\n",
              "    <path class=\"displacy-arrowhead\" d=\"M385.0,354.0 L393.0,342.0 377.0,342.0\" fill=\"currentColor\"/>\n",
              "</g>\n",
              "\n",
              "<g class=\"displacy-arrow\">\n",
              "    <path class=\"displacy-arc\" id=\"arrow-93d33adefc7946e78bd672baf0bc0b6f-0-2\" stroke-width=\"2px\" d=\"M420,352.0 C420,264.5 560.0,264.5 560.0,352.0\" fill=\"none\" stroke=\"currentColor\"/>\n",
              "    <text dy=\"1.25em\" style=\"font-size: 0.8em; letter-spacing: 1px\">\n",
              "        <textPath xlink:href=\"#arrow-93d33adefc7946e78bd672baf0bc0b6f-0-2\" class=\"displacy-label\" startOffset=\"50%\" side=\"left\" fill=\"currentColor\" text-anchor=\"middle\">amod</textPath>\n",
              "    </text>\n",
              "    <path class=\"displacy-arrowhead\" d=\"M560.0,354.0 L568.0,342.0 552.0,342.0\" fill=\"currentColor\"/>\n",
              "</g>\n",
              "\n",
              "<g class=\"displacy-arrow\">\n",
              "    <path class=\"displacy-arc\" id=\"arrow-93d33adefc7946e78bd672baf0bc0b6f-0-3\" stroke-width=\"2px\" d=\"M770,352.0 C770,177.0 1090.0,177.0 1090.0,352.0\" fill=\"none\" stroke=\"currentColor\"/>\n",
              "    <text dy=\"1.25em\" style=\"font-size: 0.8em; letter-spacing: 1px\">\n",
              "        <textPath xlink:href=\"#arrow-93d33adefc7946e78bd672baf0bc0b6f-0-3\" class=\"displacy-label\" startOffset=\"50%\" side=\"left\" fill=\"currentColor\" text-anchor=\"middle\">case</textPath>\n",
              "    </text>\n",
              "    <path class=\"displacy-arrowhead\" d=\"M770,354.0 L762,342.0 778,342.0\" fill=\"currentColor\"/>\n",
              "</g>\n",
              "\n",
              "<g class=\"displacy-arrow\">\n",
              "    <path class=\"displacy-arc\" id=\"arrow-93d33adefc7946e78bd672baf0bc0b6f-0-4\" stroke-width=\"2px\" d=\"M945,352.0 C945,264.5 1085.0,264.5 1085.0,352.0\" fill=\"none\" stroke=\"currentColor\"/>\n",
              "    <text dy=\"1.25em\" style=\"font-size: 0.8em; letter-spacing: 1px\">\n",
              "        <textPath xlink:href=\"#arrow-93d33adefc7946e78bd672baf0bc0b6f-0-4\" class=\"displacy-label\" startOffset=\"50%\" side=\"left\" fill=\"currentColor\" text-anchor=\"middle\">nummod</textPath>\n",
              "    </text>\n",
              "    <path class=\"displacy-arrowhead\" d=\"M945,354.0 L937,342.0 953,342.0\" fill=\"currentColor\"/>\n",
              "</g>\n",
              "\n",
              "<g class=\"displacy-arrow\">\n",
              "    <path class=\"displacy-arc\" id=\"arrow-93d33adefc7946e78bd672baf0bc0b6f-0-5\" stroke-width=\"2px\" d=\"M420,352.0 C420,89.5 1095.0,89.5 1095.0,352.0\" fill=\"none\" stroke=\"currentColor\"/>\n",
              "    <text dy=\"1.25em\" style=\"font-size: 0.8em; letter-spacing: 1px\">\n",
              "        <textPath xlink:href=\"#arrow-93d33adefc7946e78bd672baf0bc0b6f-0-5\" class=\"displacy-label\" startOffset=\"50%\" side=\"left\" fill=\"currentColor\" text-anchor=\"middle\">nmod</textPath>\n",
              "    </text>\n",
              "    <path class=\"displacy-arrowhead\" d=\"M1095.0,354.0 L1103.0,342.0 1087.0,342.0\" fill=\"currentColor\"/>\n",
              "</g>\n",
              "\n",
              "<g class=\"displacy-arrow\">\n",
              "    <path class=\"displacy-arc\" id=\"arrow-93d33adefc7946e78bd672baf0bc0b6f-0-6\" stroke-width=\"2px\" d=\"M1295,352.0 C1295,264.5 1435.0,264.5 1435.0,352.0\" fill=\"none\" stroke=\"currentColor\"/>\n",
              "    <text dy=\"1.25em\" style=\"font-size: 0.8em; letter-spacing: 1px\">\n",
              "        <textPath xlink:href=\"#arrow-93d33adefc7946e78bd672baf0bc0b6f-0-6\" class=\"displacy-label\" startOffset=\"50%\" side=\"left\" fill=\"currentColor\" text-anchor=\"middle\">case</textPath>\n",
              "    </text>\n",
              "    <path class=\"displacy-arrowhead\" d=\"M1295,354.0 L1287,342.0 1303,342.0\" fill=\"currentColor\"/>\n",
              "</g>\n",
              "\n",
              "<g class=\"displacy-arrow\">\n",
              "    <path class=\"displacy-arc\" id=\"arrow-93d33adefc7946e78bd672baf0bc0b6f-0-7\" stroke-width=\"2px\" d=\"M1120,352.0 C1120,177.0 1440.0,177.0 1440.0,352.0\" fill=\"none\" stroke=\"currentColor\"/>\n",
              "    <text dy=\"1.25em\" style=\"font-size: 0.8em; letter-spacing: 1px\">\n",
              "        <textPath xlink:href=\"#arrow-93d33adefc7946e78bd672baf0bc0b6f-0-7\" class=\"displacy-label\" startOffset=\"50%\" side=\"left\" fill=\"currentColor\" text-anchor=\"middle\">nmod</textPath>\n",
              "    </text>\n",
              "    <path class=\"displacy-arrowhead\" d=\"M1440.0,354.0 L1448.0,342.0 1432.0,342.0\" fill=\"currentColor\"/>\n",
              "</g>\n",
              "\n",
              "<g class=\"displacy-arrow\">\n",
              "    <path class=\"displacy-arc\" id=\"arrow-93d33adefc7946e78bd672baf0bc0b6f-0-8\" stroke-width=\"2px\" d=\"M1645,352.0 C1645,264.5 1785.0,264.5 1785.0,352.0\" fill=\"none\" stroke=\"currentColor\"/>\n",
              "    <text dy=\"1.25em\" style=\"font-size: 0.8em; letter-spacing: 1px\">\n",
              "        <textPath xlink:href=\"#arrow-93d33adefc7946e78bd672baf0bc0b6f-0-8\" class=\"displacy-label\" startOffset=\"50%\" side=\"left\" fill=\"currentColor\" text-anchor=\"middle\">cc</textPath>\n",
              "    </text>\n",
              "    <path class=\"displacy-arrowhead\" d=\"M1645,354.0 L1637,342.0 1653,342.0\" fill=\"currentColor\"/>\n",
              "</g>\n",
              "\n",
              "<g class=\"displacy-arrow\">\n",
              "    <path class=\"displacy-arc\" id=\"arrow-93d33adefc7946e78bd672baf0bc0b6f-0-9\" stroke-width=\"2px\" d=\"M245,352.0 C245,2.0 1800.0,2.0 1800.0,352.0\" fill=\"none\" stroke=\"currentColor\"/>\n",
              "    <text dy=\"1.25em\" style=\"font-size: 0.8em; letter-spacing: 1px\">\n",
              "        <textPath xlink:href=\"#arrow-93d33adefc7946e78bd672baf0bc0b6f-0-9\" class=\"displacy-label\" startOffset=\"50%\" side=\"left\" fill=\"currentColor\" text-anchor=\"middle\">conj</textPath>\n",
              "    </text>\n",
              "    <path class=\"displacy-arrowhead\" d=\"M1800.0,354.0 L1808.0,342.0 1792.0,342.0\" fill=\"currentColor\"/>\n",
              "</g>\n",
              "</svg></span>"
            ]
          },
          "metadata": {}
        }
      ]
    },
    {
      "cell_type": "code",
      "source": [
        "rev2 = nlp_pt(rev2)"
      ],
      "metadata": {
        "id": "tUzfKtlKGh1b"
      },
      "execution_count": 69,
      "outputs": []
    },
    {
      "cell_type": "code",
      "source": [
        "exibe_tokens(rev2)"
      ],
      "metadata": {
        "colab": {
          "base_uri": "https://localhost:8080/"
        },
        "id": "j78MQMq0GmZE",
        "outputId": "e227c6f2-d573-41ec-b0ba-73543fd31953"
      },
      "execution_count": 70,
      "outputs": [
        {
          "output_type": "stream",
          "name": "stdout",
          "text": [
            "\n",
            "       INPUT WORD           ALPHA           PUNCT        LIKE NUM             POS \n",
            " ==================================================================================================================================\n",
            "               '               0               1               0           PUNCT\n",
            "          Viagem               1               0               0           PROPN\n",
            "              ao               1               0               0             ADP\n",
            "           Japão               1               0               0           PROPN\n",
            "               é               1               0               0             AUX\n",
            "            aula               1               0               0            NOUN\n",
            "              de               1               0               0             ADP\n",
            "         cultura               1               0               0            NOUN\n",
            "               e               1               0               0           CCONJ\n",
            "        tradição               1               0               0            NOUN\n",
            "               '               0               1               0           PUNCT\n",
            "               ,               0               1               0           PUNCT\n",
            "             diz               1               0               0            VERB\n",
            "            ator               1               0               0            NOUN\n",
            "           Jayme               1               0               0           PROPN\n",
            "       Matarazzo               1               0               0           PROPN\n"
          ]
        }
      ]
    },
    {
      "cell_type": "code",
      "source": [
        "turismo['title_clean'] = turismo['title'].apply(lambda x : limpa_texto(x))"
      ],
      "metadata": {
        "id": "bnrWMP4uG8wn"
      },
      "execution_count": 71,
      "outputs": []
    },
    {
      "cell_type": "code",
      "source": [
        "turismo.head(10)"
      ],
      "metadata": {
        "colab": {
          "base_uri": "https://localhost:8080/",
          "height": 1000
        },
        "id": "6FthJCzqHJOn",
        "outputId": "e3fad5fd-0d0f-4ed4-ae36-02793777db11"
      },
      "execution_count": 72,
      "outputs": [
        {
          "output_type": "execute_result",
          "data": {
            "text/plain": [
              "                                                 title  \\\n",
              "381  Latam inaugura voo direto de 15 horas entre Ch...   \n",
              "414  Turismo de Las Vegas deve se recuperar em mese...   \n",
              "522  Brasileiro cria app para economizar no passeio...   \n",
              "602       AirBnB passa a fazer reserva de restaurantes   \n",
              "609  Museus lembram quatro décadas de opressão sovi...   \n",
              "615  'Viagem ao Japão é aula de cultura e tradição'...   \n",
              "619          Veja como aproveitar bem uma escala longa   \n",
              "626  Moscou tem reminiscências do regime socialista...   \n",
              "628  Fotógrafo brasileiro usa imagens em prol da pr...   \n",
              "633  Busca por pacote para a Copa sobe após início ...   \n",
              "\n",
              "                                                  text        date category  \\\n",
              "381  Animem-se os que pretendem cruzar o Pacífico e...  2017-06-10  turismo   \n",
              "414  O massacre em Las Vegas afetará o turismo da c...  2017-06-10  turismo   \n",
              "522  Com cerca de 50 mil visitantes por dia, Veneza...  2017-05-10  turismo   \n",
              "602  A plataforma de hospedagem Airbnb anunciou que...  2017-05-10  turismo   \n",
              "609  Nos países que viveram sob a órbita da União S...  2017-05-10  turismo   \n",
              "615  O ator Jayme Matarazzo, 31, aproveita os inter...  2017-05-10  turismo   \n",
              "619  Muitos passageiros veem as escalas em suas via...  2017-05-10  turismo   \n",
              "626  Como seria previsível para o país onde o comun...  2017-05-10  turismo   \n",
              "628  Luciano Candisani tem \"dificuldades\" em lidar ...  2017-05-10  turismo   \n",
              "633  A pouco mais de oito meses da abertura da Copa...  2017-05-10  turismo   \n",
              "\n",
              "    subcategory                                               link  \\\n",
              "381         NaN  http://www1.folha.uol.com.br/turismo/2017/10/1...   \n",
              "414         NaN  http://www1.folha.uol.com.br/turismo/2017/10/1...   \n",
              "522         NaN  http://www1.folha.uol.com.br/turismo/2017/10/1...   \n",
              "602         NaN  http://www1.folha.uol.com.br/turismo/2017/10/1...   \n",
              "609         NaN  http://www1.folha.uol.com.br/turismo/2017/10/1...   \n",
              "615         NaN  http://www1.folha.uol.com.br/turismo/2017/10/1...   \n",
              "619         NaN  http://www1.folha.uol.com.br/turismo/2017/10/1...   \n",
              "626         NaN  http://www1.folha.uol.com.br/turismo/2017/10/1...   \n",
              "628         NaN  http://www1.folha.uol.com.br/turismo/2017/10/1...   \n",
              "633         NaN  http://www1.folha.uol.com.br/turismo/2017/10/1...   \n",
              "\n",
              "     title_n_words  title_n_chars  \\\n",
              "381             11             51   \n",
              "414             11             54   \n",
              "522             11             58   \n",
              "602              7             38   \n",
              "609             10             62   \n",
              "615             13             60   \n",
              "619              7             35   \n",
              "626             10             56   \n",
              "628             10             58   \n",
              "633             13             55   \n",
              "\n",
              "                                           title_clean  \n",
              "381  latam inaugura voo direto de 15 horas entre ch...  \n",
              "414  turismo de las vegas deve se recuperar em mese...  \n",
              "522  brasileiro cria app para economizar no passeio...  \n",
              "602       airbnb passa a fazer reserva de restaurantes  \n",
              "609  museus lembram quatro décadas de opressão sovi...  \n",
              "615  viagem ao japão é aula de cultura e tradição d...  \n",
              "619          veja como aproveitar bem uma escala longa  \n",
              "626  moscou tem reminiscências do regime socialista...  \n",
              "628  fotógrafo brasileiro usa imagens em prol da pr...  \n",
              "633  busca por pacote para a copa sobe após início ...  "
            ],
            "text/html": [
              "\n",
              "  <div id=\"df-1fb28101-6e02-4ad9-8e19-626aea3d85ba\">\n",
              "    <div class=\"colab-df-container\">\n",
              "      <div>\n",
              "<style scoped>\n",
              "    .dataframe tbody tr th:only-of-type {\n",
              "        vertical-align: middle;\n",
              "    }\n",
              "\n",
              "    .dataframe tbody tr th {\n",
              "        vertical-align: top;\n",
              "    }\n",
              "\n",
              "    .dataframe thead th {\n",
              "        text-align: right;\n",
              "    }\n",
              "</style>\n",
              "<table border=\"1\" class=\"dataframe\">\n",
              "  <thead>\n",
              "    <tr style=\"text-align: right;\">\n",
              "      <th></th>\n",
              "      <th>title</th>\n",
              "      <th>text</th>\n",
              "      <th>date</th>\n",
              "      <th>category</th>\n",
              "      <th>subcategory</th>\n",
              "      <th>link</th>\n",
              "      <th>title_n_words</th>\n",
              "      <th>title_n_chars</th>\n",
              "      <th>title_clean</th>\n",
              "    </tr>\n",
              "  </thead>\n",
              "  <tbody>\n",
              "    <tr>\n",
              "      <th>381</th>\n",
              "      <td>Latam inaugura voo direto de 15 horas entre Ch...</td>\n",
              "      <td>Animem-se os que pretendem cruzar o Pacífico e...</td>\n",
              "      <td>2017-06-10</td>\n",
              "      <td>turismo</td>\n",
              "      <td>NaN</td>\n",
              "      <td>http://www1.folha.uol.com.br/turismo/2017/10/1...</td>\n",
              "      <td>11</td>\n",
              "      <td>51</td>\n",
              "      <td>latam inaugura voo direto de 15 horas entre ch...</td>\n",
              "    </tr>\n",
              "    <tr>\n",
              "      <th>414</th>\n",
              "      <td>Turismo de Las Vegas deve se recuperar em mese...</td>\n",
              "      <td>O massacre em Las Vegas afetará o turismo da c...</td>\n",
              "      <td>2017-06-10</td>\n",
              "      <td>turismo</td>\n",
              "      <td>NaN</td>\n",
              "      <td>http://www1.folha.uol.com.br/turismo/2017/10/1...</td>\n",
              "      <td>11</td>\n",
              "      <td>54</td>\n",
              "      <td>turismo de las vegas deve se recuperar em mese...</td>\n",
              "    </tr>\n",
              "    <tr>\n",
              "      <th>522</th>\n",
              "      <td>Brasileiro cria app para economizar no passeio...</td>\n",
              "      <td>Com cerca de 50 mil visitantes por dia, Veneza...</td>\n",
              "      <td>2017-05-10</td>\n",
              "      <td>turismo</td>\n",
              "      <td>NaN</td>\n",
              "      <td>http://www1.folha.uol.com.br/turismo/2017/10/1...</td>\n",
              "      <td>11</td>\n",
              "      <td>58</td>\n",
              "      <td>brasileiro cria app para economizar no passeio...</td>\n",
              "    </tr>\n",
              "    <tr>\n",
              "      <th>602</th>\n",
              "      <td>AirBnB passa a fazer reserva de restaurantes</td>\n",
              "      <td>A plataforma de hospedagem Airbnb anunciou que...</td>\n",
              "      <td>2017-05-10</td>\n",
              "      <td>turismo</td>\n",
              "      <td>NaN</td>\n",
              "      <td>http://www1.folha.uol.com.br/turismo/2017/10/1...</td>\n",
              "      <td>7</td>\n",
              "      <td>38</td>\n",
              "      <td>airbnb passa a fazer reserva de restaurantes</td>\n",
              "    </tr>\n",
              "    <tr>\n",
              "      <th>609</th>\n",
              "      <td>Museus lembram quatro décadas de opressão sovi...</td>\n",
              "      <td>Nos países que viveram sob a órbita da União S...</td>\n",
              "      <td>2017-05-10</td>\n",
              "      <td>turismo</td>\n",
              "      <td>NaN</td>\n",
              "      <td>http://www1.folha.uol.com.br/turismo/2017/10/1...</td>\n",
              "      <td>10</td>\n",
              "      <td>62</td>\n",
              "      <td>museus lembram quatro décadas de opressão sovi...</td>\n",
              "    </tr>\n",
              "    <tr>\n",
              "      <th>615</th>\n",
              "      <td>'Viagem ao Japão é aula de cultura e tradição'...</td>\n",
              "      <td>O ator Jayme Matarazzo, 31, aproveita os inter...</td>\n",
              "      <td>2017-05-10</td>\n",
              "      <td>turismo</td>\n",
              "      <td>NaN</td>\n",
              "      <td>http://www1.folha.uol.com.br/turismo/2017/10/1...</td>\n",
              "      <td>13</td>\n",
              "      <td>60</td>\n",
              "      <td>viagem ao japão é aula de cultura e tradição d...</td>\n",
              "    </tr>\n",
              "    <tr>\n",
              "      <th>619</th>\n",
              "      <td>Veja como aproveitar bem uma escala longa</td>\n",
              "      <td>Muitos passageiros veem as escalas em suas via...</td>\n",
              "      <td>2017-05-10</td>\n",
              "      <td>turismo</td>\n",
              "      <td>NaN</td>\n",
              "      <td>http://www1.folha.uol.com.br/turismo/2017/10/1...</td>\n",
              "      <td>7</td>\n",
              "      <td>35</td>\n",
              "      <td>veja como aproveitar bem uma escala longa</td>\n",
              "    </tr>\n",
              "    <tr>\n",
              "      <th>626</th>\n",
              "      <td>Moscou tem reminiscências do regime socialista...</td>\n",
              "      <td>Como seria previsível para o país onde o comun...</td>\n",
              "      <td>2017-05-10</td>\n",
              "      <td>turismo</td>\n",
              "      <td>NaN</td>\n",
              "      <td>http://www1.folha.uol.com.br/turismo/2017/10/1...</td>\n",
              "      <td>10</td>\n",
              "      <td>56</td>\n",
              "      <td>moscou tem reminiscências do regime socialista...</td>\n",
              "    </tr>\n",
              "    <tr>\n",
              "      <th>628</th>\n",
              "      <td>Fotógrafo brasileiro usa imagens em prol da pr...</td>\n",
              "      <td>Luciano Candisani tem \"dificuldades\" em lidar ...</td>\n",
              "      <td>2017-05-10</td>\n",
              "      <td>turismo</td>\n",
              "      <td>NaN</td>\n",
              "      <td>http://www1.folha.uol.com.br/turismo/2017/10/1...</td>\n",
              "      <td>10</td>\n",
              "      <td>58</td>\n",
              "      <td>fotógrafo brasileiro usa imagens em prol da pr...</td>\n",
              "    </tr>\n",
              "    <tr>\n",
              "      <th>633</th>\n",
              "      <td>Busca por pacote para a Copa sobe após início ...</td>\n",
              "      <td>A pouco mais de oito meses da abertura da Copa...</td>\n",
              "      <td>2017-05-10</td>\n",
              "      <td>turismo</td>\n",
              "      <td>NaN</td>\n",
              "      <td>http://www1.folha.uol.com.br/turismo/2017/10/1...</td>\n",
              "      <td>13</td>\n",
              "      <td>55</td>\n",
              "      <td>busca por pacote para a copa sobe após início ...</td>\n",
              "    </tr>\n",
              "  </tbody>\n",
              "</table>\n",
              "</div>\n",
              "      <button class=\"colab-df-convert\" onclick=\"convertToInteractive('df-1fb28101-6e02-4ad9-8e19-626aea3d85ba')\"\n",
              "              title=\"Convert this dataframe to an interactive table.\"\n",
              "              style=\"display:none;\">\n",
              "        \n",
              "  <svg xmlns=\"http://www.w3.org/2000/svg\" height=\"24px\"viewBox=\"0 0 24 24\"\n",
              "       width=\"24px\">\n",
              "    <path d=\"M0 0h24v24H0V0z\" fill=\"none\"/>\n",
              "    <path d=\"M18.56 5.44l.94 2.06.94-2.06 2.06-.94-2.06-.94-.94-2.06-.94 2.06-2.06.94zm-11 1L8.5 8.5l.94-2.06 2.06-.94-2.06-.94L8.5 2.5l-.94 2.06-2.06.94zm10 10l.94 2.06.94-2.06 2.06-.94-2.06-.94-.94-2.06-.94 2.06-2.06.94z\"/><path d=\"M17.41 7.96l-1.37-1.37c-.4-.4-.92-.59-1.43-.59-.52 0-1.04.2-1.43.59L10.3 9.45l-7.72 7.72c-.78.78-.78 2.05 0 2.83L4 21.41c.39.39.9.59 1.41.59.51 0 1.02-.2 1.41-.59l7.78-7.78 2.81-2.81c.8-.78.8-2.07 0-2.86zM5.41 20L4 18.59l7.72-7.72 1.47 1.35L5.41 20z\"/>\n",
              "  </svg>\n",
              "      </button>\n",
              "      \n",
              "  <style>\n",
              "    .colab-df-container {\n",
              "      display:flex;\n",
              "      flex-wrap:wrap;\n",
              "      gap: 12px;\n",
              "    }\n",
              "\n",
              "    .colab-df-convert {\n",
              "      background-color: #E8F0FE;\n",
              "      border: none;\n",
              "      border-radius: 50%;\n",
              "      cursor: pointer;\n",
              "      display: none;\n",
              "      fill: #1967D2;\n",
              "      height: 32px;\n",
              "      padding: 0 0 0 0;\n",
              "      width: 32px;\n",
              "    }\n",
              "\n",
              "    .colab-df-convert:hover {\n",
              "      background-color: #E2EBFA;\n",
              "      box-shadow: 0px 1px 2px rgba(60, 64, 67, 0.3), 0px 1px 3px 1px rgba(60, 64, 67, 0.15);\n",
              "      fill: #174EA6;\n",
              "    }\n",
              "\n",
              "    [theme=dark] .colab-df-convert {\n",
              "      background-color: #3B4455;\n",
              "      fill: #D2E3FC;\n",
              "    }\n",
              "\n",
              "    [theme=dark] .colab-df-convert:hover {\n",
              "      background-color: #434B5C;\n",
              "      box-shadow: 0px 1px 3px 1px rgba(0, 0, 0, 0.15);\n",
              "      filter: drop-shadow(0px 1px 2px rgba(0, 0, 0, 0.3));\n",
              "      fill: #FFFFFF;\n",
              "    }\n",
              "  </style>\n",
              "\n",
              "      <script>\n",
              "        const buttonEl =\n",
              "          document.querySelector('#df-1fb28101-6e02-4ad9-8e19-626aea3d85ba button.colab-df-convert');\n",
              "        buttonEl.style.display =\n",
              "          google.colab.kernel.accessAllowed ? 'block' : 'none';\n",
              "\n",
              "        async function convertToInteractive(key) {\n",
              "          const element = document.querySelector('#df-1fb28101-6e02-4ad9-8e19-626aea3d85ba');\n",
              "          const dataTable =\n",
              "            await google.colab.kernel.invokeFunction('convertToInteractive',\n",
              "                                                     [key], {});\n",
              "          if (!dataTable) return;\n",
              "\n",
              "          const docLinkHtml = 'Like what you see? Visit the ' +\n",
              "            '<a target=\"_blank\" href=https://colab.research.google.com/notebooks/data_table.ipynb>data table notebook</a>'\n",
              "            + ' to learn more about interactive tables.';\n",
              "          element.innerHTML = '';\n",
              "          dataTable['output_type'] = 'display_data';\n",
              "          await google.colab.output.renderOutput(dataTable, element);\n",
              "          const docLink = document.createElement('div');\n",
              "          docLink.innerHTML = docLinkHtml;\n",
              "          element.appendChild(docLink);\n",
              "        }\n",
              "      </script>\n",
              "    </div>\n",
              "  </div>\n",
              "  "
            ]
          },
          "metadata": {},
          "execution_count": 72
        }
      ]
    },
    {
      "cell_type": "markdown",
      "source": [
        "Inciando a limpeza da frase rev2"
      ],
      "metadata": {
        "id": "B7HHpOoLImlf"
      }
    },
    {
      "cell_type": "code",
      "source": [
        "turismo['title_clean_no_stop'] = turismo['title_clean'].apply(lambda x : remove_stop(x))"
      ],
      "metadata": {
        "id": "C78pGmI5H8Vg"
      },
      "execution_count": 73,
      "outputs": []
    },
    {
      "cell_type": "code",
      "source": [
        "turismo.iloc[0]['title_clean'] #com stop words"
      ],
      "metadata": {
        "colab": {
          "base_uri": "https://localhost:8080/",
          "height": 35
        },
        "id": "VOm5nwvLIPCl",
        "outputId": "4baaab56-d089-4ce8-901d-6dc7e3217bdc"
      },
      "execution_count": 79,
      "outputs": [
        {
          "output_type": "execute_result",
          "data": {
            "text/plain": [
              "'latam inaugura voo direto de 15 horas entre chile e austrália'"
            ],
            "application/vnd.google.colaboratory.intrinsic+json": {
              "type": "string"
            }
          },
          "metadata": {},
          "execution_count": 79
        }
      ]
    },
    {
      "cell_type": "code",
      "source": [
        "turismo.iloc[0]['title_clean_no_stop'] #sem stop words"
      ],
      "metadata": {
        "colab": {
          "base_uri": "https://localhost:8080/",
          "height": 35
        },
        "id": "F4D571d7IZeO",
        "outputId": "c45d92cd-fa33-444e-e061-6750b5485ade"
      },
      "execution_count": 80,
      "outputs": [
        {
          "output_type": "execute_result",
          "data": {
            "text/plain": [
              "'latam inaugura voo direto 15 horas chile austrália'"
            ],
            "application/vnd.google.colaboratory.intrinsic+json": {
              "type": "string"
            }
          },
          "metadata": {},
          "execution_count": 80
        }
      ]
    },
    {
      "cell_type": "markdown",
      "source": [
        "Criando Lematização"
      ],
      "metadata": {
        "id": "Rkl57GZHI3AO"
      }
    },
    {
      "cell_type": "code",
      "source": [
        "turismo['title_lemmas'] = turismo['title_clean_no_stop'].apply(lambda x : limpa_texto2(x))"
      ],
      "metadata": {
        "id": "37hxHhU5Ipw1"
      },
      "execution_count": 83,
      "outputs": []
    },
    {
      "cell_type": "code",
      "source": [
        "turismo.iloc[0]['title_lemmas']"
      ],
      "metadata": {
        "colab": {
          "base_uri": "https://localhost:8080/",
          "height": 35
        },
        "id": "2uU_rtYfJiDU",
        "outputId": "6edec4d6-409e-4a61-b028-4df885a78080"
      },
      "execution_count": 84,
      "outputs": [
        {
          "output_type": "execute_result",
          "data": {
            "text/plain": [
              "'latar inaugurar voo direto 15 hora Chile austráliar'"
            ],
            "application/vnd.google.colaboratory.intrinsic+json": {
              "type": "string"
            }
          },
          "metadata": {},
          "execution_count": 84
        }
      ]
    },
    {
      "cell_type": "code",
      "source": [
        "turismo.iloc[5]['title_lemmas']"
      ],
      "metadata": {
        "colab": {
          "base_uri": "https://localhost:8080/",
          "height": 35
        },
        "id": "Pas9G7NnK3LP",
        "outputId": "e56d565a-1cf2-4512-d08b-755be74a41b6"
      },
      "execution_count": 85,
      "outputs": [
        {
          "output_type": "execute_result",
          "data": {
            "text/plain": [
              "'viagem Japão aula cultura tradição ator Jayme Matarazzo'"
            ],
            "application/vnd.google.colaboratory.intrinsic+json": {
              "type": "string"
            }
          },
          "metadata": {},
          "execution_count": 85
        }
      ]
    },
    {
      "cell_type": "markdown",
      "source": [
        "Como corrigir a classificação gramatical?"
      ],
      "metadata": {
        "id": "57ozIA7cLJR_"
      }
    },
    {
      "cell_type": "markdown",
      "source": [
        "N-grams: associação entre tokens"
      ],
      "metadata": {
        "id": "4BNmWQlzLP6R"
      }
    },
    {
      "cell_type": "code",
      "source": [
        "titulos = \" \".join(turismo['title_lemmas']) #concatenação de todos os títulos"
      ],
      "metadata": {
        "id": "fnTb_b61LL-U"
      },
      "execution_count": 90,
      "outputs": []
    },
    {
      "cell_type": "code",
      "source": [
        "token = word_tokenize(titulos)"
      ],
      "metadata": {
        "id": "M4L-Zm51Ldg1"
      },
      "execution_count": 91,
      "outputs": []
    },
    {
      "cell_type": "code",
      "source": [
        "bigrams = ngrams(token,2) #as palavras que mais aparecem juntas nos textos de turismo do jornal Folha de SP"
      ],
      "metadata": {
        "id": "g8rMpsOSLsfU"
      },
      "execution_count": 92,
      "outputs": []
    },
    {
      "cell_type": "code",
      "source": [
        "print(Counter(bigrams).most_common(10))"
      ],
      "metadata": {
        "colab": {
          "base_uri": "https://localhost:8080/"
        },
        "id": "JHzeJt9HL4LM",
        "outputId": "dc25b1f9-6258-41b9-b249-f842340f6597"
      },
      "execution_count": 93,
      "outputs": [
        {
          "output_type": "stream",
          "name": "stdout",
          "text": [
            "[(('fotógrafo', 'registrar'), 31), (('álbum', 'viagem'), 22), (('atrair', 'turista'), 19), (('companhia', 'aéreo'), 18), (('fotógrafo', 'clico'), 14), (('atração', 'turístico'), 10), (('levar', 'turista'), 10), (('estação', 'esqui'), 10), (('opção', 'pacote'), 9), (('fotógrafar', 'registrar'), 8)]\n"
          ]
        }
      ]
    },
    {
      "cell_type": "code",
      "source": [
        "trigrams = ngrams(token,3) #encontrando frequência de três palavras juntas"
      ],
      "metadata": {
        "id": "3aqmF5YqMewy"
      },
      "execution_count": 95,
      "outputs": []
    },
    {
      "cell_type": "code",
      "source": [
        "print(Counter(trigrams).most_common(10))"
      ],
      "metadata": {
        "colab": {
          "base_uri": "https://localhost:8080/"
        },
        "id": "og6WU5BUMlSk",
        "outputId": "b697e71b-a879-4a1a-e131-5c67be07c27b"
      },
      "execution_count": 96,
      "outputs": [
        {
          "output_type": "stream",
          "name": "stdout",
          "text": [
            "[(('world', 'trade', 'center'), 5), (('fotógrafo', 'registrar', 'paisagem'), 4), (('tema', 'ensaio', 'fotográfico'), 4), (('parque', 'harry', 'potter'), 4), (('inaugurar', 'museu', 'dedicar'), 4), (('mundo', 'fotógrafo', 'registrar'), 3), (('pacote', 'último', 'hora'), 3), (('último', 'hora', 'viajar'), 3), (('estação', 'esqui', 'EUA'), 3), (('país', 'álbum', 'viagem'), 3)]\n"
          ]
        }
      ]
    },
    {
      "cell_type": "markdown",
      "source": [
        "Tópicos\n",
        "1. Como caracterizar tópicos?\n",
        "2. Quais palavras mais frequentes?\n",
        "```\n",
        "\n"
      ],
      "metadata": {
        "id": "eBiTeAS8Nh13"
      }
    },
    {
      "cell_type": "code",
      "source": [
        "vectorizer = CountVectorizer(min_df=10,max_df=0.9, stop_words=STOP_WORDS, lowercase=True)"
      ],
      "metadata": {
        "id": "-9PWBw2mNZzH"
      },
      "execution_count": 98,
      "outputs": []
    },
    {
      "cell_type": "code",
      "source": [
        "data_vectorized = vectorizer.fit_transform(turismo['title_lemmas'])"
      ],
      "metadata": {
        "id": "J8ZnWocYODLl"
      },
      "execution_count": 99,
      "outputs": []
    },
    {
      "cell_type": "markdown",
      "source": [
        "Definindo o número de tópicos (clusters) que eu quero empregar:"
      ],
      "metadata": {
        "id": "p06xBDhDOYrx"
      }
    },
    {
      "cell_type": "code",
      "source": [
        "NUM_TOPICS = 2"
      ],
      "metadata": {
        "id": "LJ3iQhPKOPFY"
      },
      "execution_count": 100,
      "outputs": []
    },
    {
      "cell_type": "markdown",
      "source": [
        "Momento de aprendizado da máquina, por meio dos tokens que nós conseguimos:"
      ],
      "metadata": {
        "id": "3pCKsgNxPFuY"
      }
    },
    {
      "cell_type": "code",
      "source": [
        "lda = LatentDirichletAllocation(n_components=NUM_TOPICS, max_iter=30, learning_method='online', verbose=True)"
      ],
      "metadata": {
        "id": "koBSnJBbOhlH"
      },
      "execution_count": 103,
      "outputs": []
    },
    {
      "cell_type": "code",
      "source": [
        "data_lda = lda.fit_transform(data_vectorized)"
      ],
      "metadata": {
        "colab": {
          "base_uri": "https://localhost:8080/"
        },
        "id": "FSskxOKmPJrK",
        "outputId": "36525bae-508a-45e3-bf6e-bce49f55c124"
      },
      "execution_count": 104,
      "outputs": [
        {
          "output_type": "stream",
          "name": "stdout",
          "text": [
            "iteration: 1 of max_iter: 30\n",
            "iteration: 2 of max_iter: 30\n",
            "iteration: 3 of max_iter: 30\n",
            "iteration: 4 of max_iter: 30\n",
            "iteration: 5 of max_iter: 30\n",
            "iteration: 6 of max_iter: 30\n",
            "iteration: 7 of max_iter: 30\n",
            "iteration: 8 of max_iter: 30\n",
            "iteration: 9 of max_iter: 30\n",
            "iteration: 10 of max_iter: 30\n",
            "iteration: 11 of max_iter: 30\n",
            "iteration: 12 of max_iter: 30\n",
            "iteration: 13 of max_iter: 30\n",
            "iteration: 14 of max_iter: 30\n",
            "iteration: 15 of max_iter: 30\n",
            "iteration: 16 of max_iter: 30\n",
            "iteration: 17 of max_iter: 30\n",
            "iteration: 18 of max_iter: 30\n",
            "iteration: 19 of max_iter: 30\n",
            "iteration: 20 of max_iter: 30\n",
            "iteration: 21 of max_iter: 30\n",
            "iteration: 22 of max_iter: 30\n",
            "iteration: 23 of max_iter: 30\n",
            "iteration: 24 of max_iter: 30\n",
            "iteration: 25 of max_iter: 30\n",
            "iteration: 26 of max_iter: 30\n",
            "iteration: 27 of max_iter: 30\n",
            "iteration: 28 of max_iter: 30\n",
            "iteration: 29 of max_iter: 30\n",
            "iteration: 30 of max_iter: 30\n"
          ]
        }
      ]
    },
    {
      "cell_type": "markdown",
      "source": [
        "Vamos visualizar melhor os clusters que foram feitos :D"
      ],
      "metadata": {
        "id": "1yG8UTSIPWTr"
      }
    },
    {
      "cell_type": "code",
      "source": [
        "!pip install pyLDAvis #instalando pyLDAvis"
      ],
      "metadata": {
        "colab": {
          "base_uri": "https://localhost:8080/"
        },
        "id": "7BM1dY74QqWz",
        "outputId": "ab78c66a-b285-4d02-a4d7-cfdfdca41d41"
      },
      "execution_count": 113,
      "outputs": [
        {
          "output_type": "stream",
          "name": "stdout",
          "text": [
            "Looking in indexes: https://pypi.org/simple, https://us-python.pkg.dev/colab-wheels/public/simple/\n",
            "Collecting pyLDAvis\n",
            "  Downloading pyLDAvis-3.4.0-py3-none-any.whl (2.6 MB)\n",
            "\u001b[2K     \u001b[90m━━━━━━━━━━━━━━━━━━━━━━━━━━━━━━━━━━━━━━━━\u001b[0m \u001b[32m2.6/2.6 MB\u001b[0m \u001b[31m18.7 MB/s\u001b[0m eta \u001b[36m0:00:00\u001b[0m\n",
            "\u001b[?25hRequirement already satisfied: joblib>=1.2.0 in /usr/local/lib/python3.8/dist-packages (from pyLDAvis) (1.2.0)\n",
            "Requirement already satisfied: numexpr in /usr/local/lib/python3.8/dist-packages (from pyLDAvis) (2.8.4)\n",
            "Requirement already satisfied: setuptools in /usr/local/lib/python3.8/dist-packages (from pyLDAvis) (57.4.0)\n",
            "Requirement already satisfied: gensim in /usr/local/lib/python3.8/dist-packages (from pyLDAvis) (3.6.0)\n",
            "Requirement already satisfied: numpy>=1.22.0 in /usr/local/lib/python3.8/dist-packages (from pyLDAvis) (1.22.4)\n",
            "Requirement already satisfied: scikit-learn>=1.0.0 in /usr/local/lib/python3.8/dist-packages (from pyLDAvis) (1.0.2)\n",
            "Requirement already satisfied: jinja2 in /usr/local/lib/python3.8/dist-packages (from pyLDAvis) (2.11.3)\n",
            "Collecting funcy\n",
            "  Downloading funcy-1.18-py2.py3-none-any.whl (33 kB)\n",
            "Requirement already satisfied: pandas>=1.3.4 in /usr/local/lib/python3.8/dist-packages (from pyLDAvis) (1.3.5)\n",
            "Requirement already satisfied: scipy in /usr/local/lib/python3.8/dist-packages (from pyLDAvis) (1.7.3)\n",
            "Requirement already satisfied: pytz>=2017.3 in /usr/local/lib/python3.8/dist-packages (from pandas>=1.3.4->pyLDAvis) (2022.7.1)\n",
            "Requirement already satisfied: python-dateutil>=2.7.3 in /usr/local/lib/python3.8/dist-packages (from pandas>=1.3.4->pyLDAvis) (2.8.2)\n",
            "Requirement already satisfied: threadpoolctl>=2.0.0 in /usr/local/lib/python3.8/dist-packages (from scikit-learn>=1.0.0->pyLDAvis) (3.1.0)\n",
            "Requirement already satisfied: smart-open>=1.2.1 in /usr/local/lib/python3.8/dist-packages (from gensim->pyLDAvis) (6.3.0)\n",
            "Requirement already satisfied: six>=1.5.0 in /usr/local/lib/python3.8/dist-packages (from gensim->pyLDAvis) (1.15.0)\n",
            "Requirement already satisfied: MarkupSafe>=0.23 in /usr/local/lib/python3.8/dist-packages (from jinja2->pyLDAvis) (2.0.1)\n",
            "Installing collected packages: funcy, pyLDAvis\n",
            "Successfully installed funcy-1.18 pyLDAvis-3.4.0\n"
          ]
        }
      ]
    },
    {
      "cell_type": "code",
      "source": [
        "import pyLDAvis.sklearn #biblioteca do Python para visualização do lda gerado"
      ],
      "metadata": {
        "id": "AMcUIpBzPbjx"
      },
      "execution_count": 114,
      "outputs": []
    },
    {
      "cell_type": "code",
      "source": [
        "pyLDAvis.enable_notebook() #informando que estamos em um notebook"
      ],
      "metadata": {
        "id": "n1qUUtp0Ph25"
      },
      "execution_count": 116,
      "outputs": []
    },
    {
      "cell_type": "code",
      "source": [
        "dash = pyLDAvis.sklearn.prepare(lda, data_vectorized, vectorizer, mds='tsne')"
      ],
      "metadata": {
        "id": "rGr9aJwxRAm3"
      },
      "execution_count": 117,
      "outputs": []
    },
    {
      "cell_type": "code",
      "source": [
        "dash"
      ],
      "metadata": {
        "colab": {
          "base_uri": "https://localhost:8080/",
          "height": 881
        },
        "id": "bc5X_3AwRPKM",
        "outputId": "171805a0-be1e-4dcb-e81c-c5ad257995df"
      },
      "execution_count": 118,
      "outputs": [
        {
          "output_type": "execute_result",
          "data": {
            "text/plain": [
              "PreparedData(topic_coordinates=               x           y  topics  cluster       Freq\n",
              "topic                                                   \n",
              "1     -60.312317  141.369629       1        1  52.704196\n",
              "0      60.312561 -141.369141       2        1  47.295804, topic_info=           Term        Freq       Total Category  logprob  loglift\n",
              "194     turismo  115.000000  115.000000  Default  30.0000  30.0000\n",
              "198      viagem  116.000000  116.000000  Default  29.0000  29.0000\n",
              "108       hotel  103.000000  103.000000  Default  28.0000  28.0000\n",
              "95    fotógrafo   84.000000   84.000000  Default  27.0000  27.0000\n",
              "128       museu   70.000000   70.000000  Default  26.0000  26.0000\n",
              "..          ...         ...         ...      ...      ...      ...\n",
              "133       norte   24.070570   25.038192   Topic2  -4.6025   0.7093\n",
              "125     mostrar   24.515178   26.440131   Topic2  -4.5842   0.6732\n",
              "59     cruzeiro   28.621162   36.293512   Topic2  -4.4294   0.5113\n",
              "31   brasileiro   30.665067   55.315354   Topic2  -4.3604   0.1588\n",
              "195     turista   31.282939  187.654440   Topic2  -4.3405  -1.0428\n",
              "\n",
              "[106 rows x 6 columns], token_table=      Topic      Freq       Term\n",
              "term                            \n",
              "5         1  0.052062      abrir\n",
              "5         2  0.937114      abrir\n",
              "6         1  0.955852  aeroporto\n",
              "6         2  0.045517  aeroporto\n",
              "8         1  0.958168     airbnb\n",
              "...     ...       ...        ...\n",
              "204       1  0.988463  visitante\n",
              "204       2  0.036610  visitante\n",
              "213       1  0.036805       água\n",
              "213       2  0.993731       água\n",
              "214       2  0.998947      álbum\n",
              "\n",
              "[146 rows x 3 columns], R=30, lambda_step=0.01, plot_opts={'xlab': 'PC1', 'ylab': 'PC2'}, topic_order=[2, 1])"
            ],
            "text/html": [
              "\n",
              "<link rel=\"stylesheet\" type=\"text/css\" href=\"https://cdn.jsdelivr.net/gh/bmabey/pyLDAvis@3.4.0/pyLDAvis/js/ldavis.v1.0.0.css\">\n",
              "\n",
              "\n",
              "<div id=\"ldavis_el1621396526761727041166658750\" style=\"background-color:white;\"></div>\n",
              "<script type=\"text/javascript\">\n",
              "\n",
              "var ldavis_el1621396526761727041166658750_data = {\"mdsDat\": {\"x\": [-60.31231689453125, 60.31256103515625], \"y\": [141.36962890625, -141.369140625], \"topics\": [1, 2], \"cluster\": [1, 1], \"Freq\": [52.70419603237034, 47.29580396762966]}, \"tinfo\": {\"Term\": [\"turismo\", \"viagem\", \"hotel\", \"fot\\u00f3grafo\", \"museu\", \"brasil\", \"parque\", \"cidade\", \"mundo\", \"pa\\u00eds\", \"destino\", \"registrar\", \"ano\", \"turista\", \"eua\", \"rio\", \"atra\\u00e7\\u00e3o\", \"praia\", \"ilha\", \"pacote\", \"paris\", \"tur\\u00edstico\", \"viajar\", \"passeio\", \"sul\", \"roteiro\", \"imagem\", \"inaugurar\", \"foto\", \"oferecer\", \"hotel\", \"mundo\", \"pacote\", \"atra\\u00e7\\u00e3o\", \"tur\\u00edstico\", \"rio\", \"cidade\", \"viajar\", \"eua\", \"a\\u00e9reo\", \"oferecer\", \"criar\", \"londr\", \"avi\\u00e3o\", \"companhia\", \"atrair\", \"aeroporto\", \"esqui\", \"sp\", \"lan\\u00e7ar\", \"visitante\", \"luxo\", \"levar\", \"passar\", \"fechar\", \"op\\u00e7\\u00e3o\", \"passeio\", \"revelar\", \"ficar\", \"ano\", \"confirar\", \"alto\", \"turista\", \"cuba\", \"conhecer\", \"crise\", \"airbnb\", \"brasileiro\", \"turismo\", \"fot\\u00f3grafo\", \"museu\", \"registrar\", \"parque\", \"pa\\u00eds\", \"praia\", \"destino\", \"ilha\", \"viagem\", \"imagem\", \"paris\", \"sul\", \"inaugurar\", \"roteiro\", \"\\u00e1lbum\", \"mar\", \"foto\", \"paisagem\", \"\\u00e1gua\", \"ganhar\", \"regi\\u00e3o\", \"clico\", \"it\\u00e1lia\", \"vinho\", \"para\\u00edso\", \"fot\\u00f3grafar\", \"filme\", \"paulo\", \"permitir\", \"brasil\", \"site\", \"abrir\", \"norte\", \"mostrar\", \"cruzeiro\", \"brasileiro\", \"turista\"], \"Freq\": [115.0, 116.0, 103.0, 84.0, 70.0, 78.0, 65.0, 76.0, 70.0, 55.0, 54.0, 53.0, 72.0, 187.0, 59.0, 58.0, 55.0, 45.0, 44.0, 49.0, 41.0, 48.0, 45.0, 47.0, 35.0, 35.0, 34.0, 34.0, 32.0, 38.0, 103.24341897120313, 70.04387847098357, 48.6436894425779, 54.86755254799326, 48.25174297229442, 57.62777275015412, 75.94065981597988, 44.87848583938244, 59.009555007580275, 35.22090866500509, 37.947766822292955, 31.93814335479173, 32.2135061278209, 24.805359410003792, 22.53059517071734, 28.857313994806294, 21.43834730042298, 23.558568888930978, 27.078876620196112, 22.73537244329046, 26.61553059601672, 22.19489854166346, 27.112614289519765, 22.257105246918194, 21.042111769561114, 19.709006985684947, 46.455274872623505, 20.06789836528592, 18.777019940633544, 70.16509517145904, 27.361728182938574, 23.482899266664003, 156.37150085743343, 22.77000730567574, 55.772409977249175, 25.15850672674867, 23.57207639439527, 24.650287192921045, 114.4374790457644, 83.9908399789489, 69.59422074118349, 52.64398107430994, 65.00318716698155, 54.87146050632964, 45.24061450581885, 53.57802475791303, 44.32263494979999, 115.03897937013718, 33.909726542414106, 40.766435770535665, 34.91823489745197, 33.619971869675304, 34.85830726299119, 26.538278624119492, 28.626016402358022, 32.222518754840884, 23.200010069806304, 26.557463644803136, 31.338247872611685, 22.6158856962369, 19.96163759726379, 24.09875629153334, 20.378670548629668, 20.0657822670233, 18.66376399427773, 16.667271500875795, 26.122342426374974, 22.83771855539647, 76.23614498386544, 30.998238761188173, 36.16241898562947, 24.070569607814384, 24.515177986204538, 28.62116215462063, 30.665067252826567, 31.282939133716006], \"Total\": [115.0, 116.0, 103.0, 84.0, 70.0, 78.0, 65.0, 76.0, 70.0, 55.0, 54.0, 53.0, 72.0, 187.0, 59.0, 58.0, 55.0, 45.0, 44.0, 49.0, 41.0, 48.0, 45.0, 47.0, 35.0, 35.0, 34.0, 34.0, 32.0, 38.0, 103.83215198906892, 70.70019525844901, 49.235521917053, 55.56715145281966, 48.919337822647776, 58.426560037483284, 76.99578416141442, 45.517478141085846, 59.8987976766023, 35.76759775958893, 38.68277966199273, 32.56551632228221, 32.85069468179612, 25.35707335945009, 23.050245281222423, 29.560140919731158, 21.969939059470093, 24.146109262753853, 27.76639329634451, 23.32810762860553, 27.315138485879416, 22.78124190943485, 27.839289518939445, 22.8624570190122, 21.632954053258864, 20.272113086536645, 47.79706612232551, 20.665183626804264, 19.337021217293156, 72.36559989935137, 28.447079038281778, 24.36456301807778, 187.65443999114945, 23.71082242392715, 74.43556825997445, 27.189011161298566, 25.04780170769905, 55.315354445747616, 115.02851358258316, 84.50109834009898, 70.16277626620779, 53.15267280811602, 65.64654337191496, 55.50418023168511, 45.79159829374526, 54.24149676227715, 44.87910638309171, 116.54294363413184, 34.41100744180006, 41.37865009072382, 35.49116062376234, 34.19433782089965, 35.46197413195652, 27.02845484001624, 29.241196907653077, 32.935781683803995, 23.731701780131278, 27.170324242596017, 32.072621785118585, 23.172821773190435, 20.46092300872572, 24.73575580231742, 20.942696716289205, 20.62279461176167, 19.203329197018466, 17.20960815035408, 26.984907214789427, 23.60810060179743, 78.8704158961364, 32.23106097004894, 38.415828265314445, 25.038192276301796, 26.44013058851093, 36.293512473344904, 55.315354445747616, 187.65443999114945], \"Category\": [\"Default\", \"Default\", \"Default\", \"Default\", \"Default\", \"Default\", \"Default\", \"Default\", \"Default\", \"Default\", \"Default\", \"Default\", \"Default\", \"Default\", \"Default\", \"Default\", \"Default\", \"Default\", \"Default\", \"Default\", \"Default\", \"Default\", \"Default\", \"Default\", \"Default\", \"Default\", \"Default\", \"Default\", \"Default\", \"Default\", \"Topic1\", \"Topic1\", \"Topic1\", \"Topic1\", \"Topic1\", \"Topic1\", \"Topic1\", \"Topic1\", \"Topic1\", \"Topic1\", \"Topic1\", \"Topic1\", \"Topic1\", \"Topic1\", \"Topic1\", \"Topic1\", \"Topic1\", \"Topic1\", \"Topic1\", \"Topic1\", \"Topic1\", \"Topic1\", \"Topic1\", \"Topic1\", \"Topic1\", \"Topic1\", \"Topic1\", \"Topic1\", \"Topic1\", \"Topic1\", \"Topic1\", \"Topic1\", \"Topic1\", \"Topic1\", \"Topic1\", \"Topic1\", \"Topic1\", \"Topic1\", \"Topic2\", \"Topic2\", \"Topic2\", \"Topic2\", \"Topic2\", \"Topic2\", \"Topic2\", \"Topic2\", \"Topic2\", \"Topic2\", \"Topic2\", \"Topic2\", \"Topic2\", \"Topic2\", \"Topic2\", \"Topic2\", \"Topic2\", \"Topic2\", \"Topic2\", \"Topic2\", \"Topic2\", \"Topic2\", \"Topic2\", \"Topic2\", \"Topic2\", \"Topic2\", \"Topic2\", \"Topic2\", \"Topic2\", \"Topic2\", \"Topic2\", \"Topic2\", \"Topic2\", \"Topic2\", \"Topic2\", \"Topic2\", \"Topic2\", \"Topic2\"], \"logprob\": [30.0, 29.0, 28.0, 27.0, 26.0, 25.0, 24.0, 23.0, 22.0, 21.0, 20.0, 19.0, 18.0, 17.0, 16.0, 15.0, 14.0, 13.0, 12.0, 11.0, 10.0, 9.0, 8.0, 7.0, 6.0, 5.0, 4.0, 3.0, 2.0, 1.0, -3.2547, -3.6427, -4.0073, -3.8869, -4.0154, -3.8378, -3.5619, -4.0878, -3.8141, -4.3302, -4.2556, -4.428, -4.4194, -4.6807, -4.7769, -4.5294, -4.8266, -4.7323, -4.593, -4.7679, -4.6103, -4.7919, -4.5918, -4.7891, -4.8453, -4.9107, -4.0533, -4.8927, -4.9592, -3.641, -4.5827, -4.7355, -2.8396, -4.7664, -3.8705, -4.6666, -4.7317, -4.687, -3.0435, -3.3528, -3.5408, -3.82, -3.6091, -3.7785, -3.9715, -3.8024, -3.992, -3.0383, -4.2598, -4.0757, -4.2305, -4.2684, -4.2322, -4.5049, -4.4292, -4.3109, -4.6394, -4.5042, -4.3387, -4.6649, -4.7897, -4.6014, -4.769, -4.7845, -4.8569, -4.9701, -4.5207, -4.6551, -3.4497, -4.3496, -4.1955, -4.6025, -4.5842, -4.4294, -4.3604, -4.3405], \"loglift\": [30.0, 29.0, 28.0, 27.0, 26.0, 25.0, 24.0, 23.0, 22.0, 21.0, 20.0, 19.0, 18.0, 17.0, 16.0, 15.0, 14.0, 13.0, 12.0, 11.0, 10.0, 9.0, 8.0, 7.0, 6.0, 5.0, 4.0, 3.0, 2.0, 1.0, 0.6348, 0.6311, 0.6284, 0.6278, 0.6267, 0.6267, 0.6267, 0.6263, 0.6255, 0.6251, 0.6213, 0.621, 0.6209, 0.6185, 0.6177, 0.6164, 0.616, 0.6158, 0.6154, 0.6147, 0.6145, 0.6144, 0.614, 0.6136, 0.6128, 0.6123, 0.612, 0.6111, 0.6111, 0.6096, 0.6016, 0.6036, 0.4581, 0.6, 0.3518, 0.5629, 0.5798, -0.1678, 0.7436, 0.7427, 0.7406, 0.7391, 0.7389, 0.7373, 0.7366, 0.7364, 0.7363, 0.7358, 0.7341, 0.7338, 0.7325, 0.7318, 0.7316, 0.7304, 0.7275, 0.7269, 0.7261, 0.7259, 0.7256, 0.7244, 0.724, 0.7227, 0.7214, 0.7214, 0.7202, 0.7167, 0.7163, 0.7156, 0.7148, 0.7097, 0.6883, 0.7093, 0.6732, 0.5113, 0.1588, -1.0428]}, \"token.table\": {\"Topic\": [1, 2, 1, 2, 1, 2, 1, 2, 1, 2, 1, 2, 1, 2, 1, 2, 1, 2, 1, 2, 1, 2, 1, 2, 2, 1, 2, 1, 2, 1, 2, 1, 2, 1, 2, 1, 2, 1, 2, 1, 2, 1, 2, 1, 2, 1, 2, 1, 2, 1, 2, 1, 2, 1, 2, 1, 2, 1, 2, 1, 2, 1, 2, 1, 2, 1, 2, 1, 2, 1, 2, 1, 2, 1, 2, 1, 2, 1, 2, 1, 2, 1, 2, 1, 2, 1, 2, 1, 2, 1, 2, 1, 2, 1, 2, 1, 2, 1, 2, 1, 2, 1, 2, 1, 2, 1, 2, 1, 2, 1, 2, 1, 2, 1, 2, 1, 2, 1, 2, 1, 2, 1, 2, 1, 2, 1, 2, 1, 2, 1, 2, 1, 2, 1, 2, 1, 2, 1, 2, 1, 2, 1, 2, 1, 2, 2], \"Freq\": [0.052061873720051874, 0.9371137269609336, 0.9558515361902198, 0.04551673981858189, 0.958167917491259, 0.039923663228802454, 0.9439939465745675, 0.041043215068459454, 0.9673104361375913, 0.027637441032502607, 0.9810508034703831, 0.033829338050702866, 0.9897934042326929, 0.017996243713321692, 0.9859181951170632, 0.03943672780468253, 0.9785392979213108, 0.027958265654894593, 0.03803707595444492, 0.9636059241792713, 0.4519540776787318, 0.5604230563216275, 0.9870670300684664, 0.012987724079848243, 0.9774730099649387, 0.9978201845312529, 0.043383486283967515, 0.9491308391861809, 0.03515299404393263, 0.7523285078500888, 0.25525431516342295, 0.9826345046494698, 0.03070732827029593, 0.9194891219723925, 0.0735591297577914, 0.22042506924275934, 0.7990408760050026, 0.9700211822593786, 0.04217483401127733, 0.01843606942453441, 0.9955477489248582, 0.9939489521411538, 0.04141453967254807, 0.984994729252247, 0.01669482591952961, 0.9707412102988536, 0.046225771918993026, 0.9825711926616827, 0.0517142732979833, 0.05810707549314105, 0.9878202833833979, 0.030362115270266835, 0.9715876886485387, 0.052074303874104354, 0.9894117736079828, 0.011834165704867082, 0.9940699192088348, 0.031179240870915993, 0.9665564669983957, 0.9919856039470653, 0.009630928193660827, 0.022282083592839806, 0.9804116780849514, 0.029060468563476893, 0.9880559311582143, 0.02924460784231938, 0.9943166666388589, 0.040427307254800475, 0.9702553741152113, 0.9859350945293481, 0.042866743240406444, 0.9698523369869599, 0.03592045692544296, 0.9741042102751171, 0.03044075657109741, 0.9657067901503956, 0.043895763188654346, 0.0341983265308226, 0.9917514693938554, 0.07564259160161119, 0.94553239502014, 0.9900962754644537, 0.014144232506635053, 0.014252571708477647, 0.9976800195934353, 0.039938985569117236, 0.9585356536588135, 0.9823492606281449, 0.0258512963323196, 0.9865769747152129, 0.04932884873576064, 0.9952164228613279, 0.020310539242067917, 0.04213772822803727, 0.9691677492448572, 0.048490033423000595, 0.969800668460012, 0.02416705227955655, 0.9908491434618185, 0.015233094518542802, 0.990151143705282, 0.9622762759796557, 0.04373983072634798, 0.9624021667412318, 0.02092178623350504, 0.03705775202561887, 0.9635015526660905, 0.018016661012302277, 0.9909163556766253, 0.042358342031288354, 0.9742418667196321, 0.02183806718396618, 0.982713023278478, 0.018813729341703157, 0.9971276551102674, 0.04315400212316568, 0.9925420488328107, 0.9678113856224596, 0.04839056928112298, 0.992699210133035, 0.01711550362298336, 0.02819921971289385, 0.9869726899512847, 0.03102597214932704, 0.9618051366291381, 0.9723985291080132, 0.03601476033733382, 0.0281760298177026, 0.9861610436195909, 0.008693496671867047, 0.9910586205928432, 0.8313152622840024, 0.16519726365900048, 0.9812070673159816, 0.020441813902416284, 0.017161056153504103, 0.9867607288264859, 0.9886312211875651, 0.021969582693057002, 0.04774934257736737, 0.9549868515473474, 0.9884628633297127, 0.03660973567887825, 0.03680486073965431, 0.9937312399706665, 0.9989472265364532], \"Term\": [\"abrir\", \"abrir\", \"aeroporto\", \"aeroporto\", \"airbnb\", \"airbnb\", \"alto\", \"alto\", \"ano\", \"ano\", \"atrair\", \"atrair\", \"atra\\u00e7\\u00e3o\", \"atra\\u00e7\\u00e3o\", \"avi\\u00e3o\", \"avi\\u00e3o\", \"a\\u00e9reo\", \"a\\u00e9reo\", \"brasil\", \"brasil\", \"brasileiro\", \"brasileiro\", \"cidade\", \"cidade\", \"clico\", \"companhia\", \"companhia\", \"confirar\", \"confirar\", \"conhecer\", \"conhecer\", \"criar\", \"criar\", \"crise\", \"crise\", \"cruzeiro\", \"cruzeiro\", \"cuba\", \"cuba\", \"destino\", \"destino\", \"esqui\", \"esqui\", \"eua\", \"eua\", \"fechar\", \"fechar\", \"ficar\", \"ficar\", \"filme\", \"filme\", \"foto\", \"foto\", \"fot\\u00f3grafar\", \"fot\\u00f3grafar\", \"fot\\u00f3grafo\", \"fot\\u00f3grafo\", \"ganhar\", \"ganhar\", \"hotel\", \"hotel\", \"ilha\", \"ilha\", \"imagem\", \"imagem\", \"inaugurar\", \"inaugurar\", \"it\\u00e1lia\", \"it\\u00e1lia\", \"lan\\u00e7ar\", \"lan\\u00e7ar\", \"levar\", \"levar\", \"londr\", \"londr\", \"luxo\", \"luxo\", \"mar\", \"mar\", \"mostrar\", \"mostrar\", \"mundo\", \"mundo\", \"museu\", \"museu\", \"norte\", \"norte\", \"oferecer\", \"oferecer\", \"op\\u00e7\\u00e3o\", \"op\\u00e7\\u00e3o\", \"pacote\", \"pacote\", \"paisagem\", \"paisagem\", \"para\\u00edso\", \"para\\u00edso\", \"paris\", \"paris\", \"parque\", \"parque\", \"passar\", \"passar\", \"passeio\", \"passeio\", \"paulo\", \"paulo\", \"pa\\u00eds\", \"pa\\u00eds\", \"permitir\", \"permitir\", \"praia\", \"praia\", \"registrar\", \"registrar\", \"regi\\u00e3o\", \"regi\\u00e3o\", \"revelar\", \"revelar\", \"rio\", \"rio\", \"roteiro\", \"roteiro\", \"site\", \"site\", \"sp\", \"sp\", \"sul\", \"sul\", \"turismo\", \"turismo\", \"turista\", \"turista\", \"tur\\u00edstico\", \"tur\\u00edstico\", \"viagem\", \"viagem\", \"viajar\", \"viajar\", \"vinho\", \"vinho\", \"visitante\", \"visitante\", \"\\u00e1gua\", \"\\u00e1gua\", \"\\u00e1lbum\"]}, \"R\": 30, \"lambda.step\": 0.01, \"plot.opts\": {\"xlab\": \"PC1\", \"ylab\": \"PC2\"}, \"topic.order\": [2, 1]};\n",
              "\n",
              "function LDAvis_load_lib(url, callback){\n",
              "  var s = document.createElement('script');\n",
              "  s.src = url;\n",
              "  s.async = true;\n",
              "  s.onreadystatechange = s.onload = callback;\n",
              "  s.onerror = function(){console.warn(\"failed to load library \" + url);};\n",
              "  document.getElementsByTagName(\"head\")[0].appendChild(s);\n",
              "}\n",
              "\n",
              "if(typeof(LDAvis) !== \"undefined\"){\n",
              "   // already loaded: just create the visualization\n",
              "   !function(LDAvis){\n",
              "       new LDAvis(\"#\" + \"ldavis_el1621396526761727041166658750\", ldavis_el1621396526761727041166658750_data);\n",
              "   }(LDAvis);\n",
              "}else if(typeof define === \"function\" && define.amd){\n",
              "   // require.js is available: use it to load d3/LDAvis\n",
              "   require.config({paths: {d3: \"https://d3js.org/d3.v5\"}});\n",
              "   require([\"d3\"], function(d3){\n",
              "      window.d3 = d3;\n",
              "      LDAvis_load_lib(\"https://cdn.jsdelivr.net/gh/bmabey/pyLDAvis@3.4.0/pyLDAvis/js/ldavis.v3.0.0.js\", function(){\n",
              "        new LDAvis(\"#\" + \"ldavis_el1621396526761727041166658750\", ldavis_el1621396526761727041166658750_data);\n",
              "      });\n",
              "    });\n",
              "}else{\n",
              "    // require.js not available: dynamically load d3 & LDAvis\n",
              "    LDAvis_load_lib(\"https://d3js.org/d3.v5.js\", function(){\n",
              "         LDAvis_load_lib(\"https://cdn.jsdelivr.net/gh/bmabey/pyLDAvis@3.4.0/pyLDAvis/js/ldavis.v3.0.0.js\", function(){\n",
              "                 new LDAvis(\"#\" + \"ldavis_el1621396526761727041166658750\", ldavis_el1621396526761727041166658750_data);\n",
              "            })\n",
              "         });\n",
              "}\n",
              "</script>"
            ]
          },
          "metadata": {},
          "execution_count": 118
        }
      ]
    }
  ]
}